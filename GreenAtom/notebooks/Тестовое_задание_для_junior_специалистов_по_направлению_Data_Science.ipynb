{
  "nbformat": 4,
  "nbformat_minor": 0,
  "metadata": {
    "colab": {
      "provenance": []
    },
    "kernelspec": {
      "name": "python3",
      "display_name": "Python 3"
    },
    "language_info": {
      "name": "python"
    }
  },
  "cells": [
    {
      "cell_type": "markdown",
      "source": [
        "**Цель проекта:**\n",
        "\n",
        "Цель проекта по созданию веб-приложения для предсказания настроения отзывов состоит в разработке инструмента, который способен автоматически определять позитивные и негативные тональности текстовых отзывов.\n",
        "\n",
        "Основная задача такого веб-приложения - помочь пользователям быстро и удобно анализировать большие объемы текстовых отзывов, например, отзывы о фильмах, товарах или услугах. Пользователи могут вводить текстовые отзывы в приложение, которое затем применяет модель машинного обучения для предсказания тональности отзыва."
      ],
      "metadata": {
        "id": "SBahxY3bXVb7"
      }
    },
    {
      "cell_type": "markdown",
      "source": [
        "#Сбор и предобработка данных"
      ],
      "metadata": {
        "id": "6Jxo7IVZYtxV"
      }
    },
    {
      "cell_type": "markdown",
      "source": [
        "Набор данных IMDB Large Movie Review (IMDB большого размера с обзорами фильмов) представляет собой коллекцию текстовых отзывов о фильмах с присвоенными им метками настроения (позитивный или негативный). Этот набор данных широко используется для задач анализа тональности текста и классификации.\n",
        "\n",
        "Описание набора данных:\n",
        "- Общий размер: Набор данных состоит из около 50 000 отзывов на фильмы, разделенных поровну на обучающий и тестовый наборы данных. Каждый набор состоит из 25 000 позитивных и 25 000 негативных отзывов.\n",
        "- Формат: Отзывы представлены в виде текстовых файлов в кодировке UTF-8. Каждый файл представляет собой отдельный отзыв.\n",
        "- Метки: Каждый отзыв сопровождается меткой, указывающей настроение отзыва. Позитивные отзывы помечены как \"pos\", а негативные - как \"neg\".\n",
        "- Распределение классов: Метки позитивных и негативных отзывов в наборе данных сбалансированы и равномерно распределены.\n",
        "\n",
        "Набор данных IMDB Large Movie Review является одним из популярных наборов данных для задач анализа тональности текста и машинного обучения в области обработки естественного языка. Он часто используется для обучения и тестирования моделей, предсказывающих тональность текста, классифицирующих отзывы на позитивные и негативные."
      ],
      "metadata": {
        "id": "L1SS1vKYdl0s"
      }
    },
    {
      "cell_type": "code",
      "execution_count": null,
      "metadata": {
        "id": "482-KKhkRePL"
      },
      "outputs": [],
      "source": [
        "import tarfile\n",
        "import pandas as pd\n",
        "import os\n",
        "from collections import Counter\n",
        "from nltk.tokenize import word_tokenize\n",
        "import nltk\n",
        "from nltk.corpus import stopwords\n",
        "from string import punctuation\n",
        "import re"
      ]
    },
    {
      "cell_type": "code",
      "source": [
        "! pip install pymorphy2\n",
        "import pymorphy2"
      ],
      "metadata": {
        "colab": {
          "base_uri": "https://localhost:8080/"
        },
        "id": "j7VG8KWXp58j",
        "outputId": "6bed424d-1f95-42ee-abdc-a8405ce720fd"
      },
      "execution_count": null,
      "outputs": [
        {
          "output_type": "stream",
          "name": "stdout",
          "text": [
            "Requirement already satisfied: pymorphy2 in /usr/local/lib/python3.10/dist-packages (0.9.1)\n",
            "Requirement already satisfied: dawg-python>=0.7.1 in /usr/local/lib/python3.10/dist-packages (from pymorphy2) (0.7.2)\n",
            "Requirement already satisfied: pymorphy2-dicts-ru<3.0,>=2.4 in /usr/local/lib/python3.10/dist-packages (from pymorphy2) (2.4.417127.4579844)\n",
            "Requirement already satisfied: docopt>=0.6 in /usr/local/lib/python3.10/dist-packages (from pymorphy2) (0.6.2)\n"
          ]
        }
      ]
    },
    {
      "cell_type": "code",
      "source": [
        "tar = tarfile.open(\"aclImdb_v1.tar.gz\", \"r:gz\")"
      ],
      "metadata": {
        "id": "BopPBm8EXPLU"
      },
      "execution_count": null,
      "outputs": []
    },
    {
      "cell_type": "code",
      "source": [
        "tar.extractall()"
      ],
      "metadata": {
        "id": "wvSxjGI1YnXk"
      },
      "execution_count": null,
      "outputs": []
    },
    {
      "cell_type": "code",
      "source": [
        "data_dir = \"aclImdb\""
      ],
      "metadata": {
        "id": "p4qwirw3bvsE"
      },
      "execution_count": null,
      "outputs": []
    },
    {
      "cell_type": "code",
      "source": [
        "# Список для хранения отзывов и соответствующих им меток\n",
        "reviews = []\n",
        "labels = []"
      ],
      "metadata": {
        "id": "WWEx80KWZSyf"
      },
      "execution_count": null,
      "outputs": []
    },
    {
      "cell_type": "code",
      "source": [
        "# Перебираем поддиректории с отзывами\n",
        "for label in [\"pos\", \"neg\"]:\n",
        "    dir_name = os.path.join(data_dir, \"train\", label)\n",
        "    for filename in os.listdir(dir_name):\n",
        "        file_path = os.path.join(dir_name, filename)\n",
        "        with open(file_path, \"r\", encoding=\"utf-8\") as file:\n",
        "            review = file.read()\n",
        "            reviews.append(review)\n",
        "            labels.append(label)"
      ],
      "metadata": {
        "id": "72rBSpiKZTtZ"
      },
      "execution_count": null,
      "outputs": []
    },
    {
      "cell_type": "code",
      "source": [
        "df = pd.DataFrame({\"review\": reviews, \"label\": labels})"
      ],
      "metadata": {
        "id": "vYToBZ1Cb26P"
      },
      "execution_count": null,
      "outputs": []
    },
    {
      "cell_type": "code",
      "source": [
        "df.head()"
      ],
      "metadata": {
        "colab": {
          "base_uri": "https://localhost:8080/",
          "height": 206
        },
        "id": "wz6IFE3Db6_Q",
        "outputId": "7b801c21-957a-48f4-ab50-826a192d6555"
      },
      "execution_count": null,
      "outputs": [
        {
          "output_type": "execute_result",
          "data": {
            "text/plain": [
              "                                              review label\n",
              "0  I have no idea what people are complaining abo...   pos\n",
              "1  I was dragged to this movie about four years a...   pos\n",
              "2  This film came out 12 years years ago, and was...   pos\n",
              "3  It's a shame that this piece of work wasn't ac...   pos\n",
              "4  I just saw this at the Toronto Film Festival, ...   pos"
            ],
            "text/html": [
              "\n",
              "  <div id=\"df-7959f442-50fa-44aa-9f63-c1025b21ad7b\">\n",
              "    <div class=\"colab-df-container\">\n",
              "      <div>\n",
              "<style scoped>\n",
              "    .dataframe tbody tr th:only-of-type {\n",
              "        vertical-align: middle;\n",
              "    }\n",
              "\n",
              "    .dataframe tbody tr th {\n",
              "        vertical-align: top;\n",
              "    }\n",
              "\n",
              "    .dataframe thead th {\n",
              "        text-align: right;\n",
              "    }\n",
              "</style>\n",
              "<table border=\"1\" class=\"dataframe\">\n",
              "  <thead>\n",
              "    <tr style=\"text-align: right;\">\n",
              "      <th></th>\n",
              "      <th>review</th>\n",
              "      <th>label</th>\n",
              "    </tr>\n",
              "  </thead>\n",
              "  <tbody>\n",
              "    <tr>\n",
              "      <th>0</th>\n",
              "      <td>I have no idea what people are complaining abo...</td>\n",
              "      <td>pos</td>\n",
              "    </tr>\n",
              "    <tr>\n",
              "      <th>1</th>\n",
              "      <td>I was dragged to this movie about four years a...</td>\n",
              "      <td>pos</td>\n",
              "    </tr>\n",
              "    <tr>\n",
              "      <th>2</th>\n",
              "      <td>This film came out 12 years years ago, and was...</td>\n",
              "      <td>pos</td>\n",
              "    </tr>\n",
              "    <tr>\n",
              "      <th>3</th>\n",
              "      <td>It's a shame that this piece of work wasn't ac...</td>\n",
              "      <td>pos</td>\n",
              "    </tr>\n",
              "    <tr>\n",
              "      <th>4</th>\n",
              "      <td>I just saw this at the Toronto Film Festival, ...</td>\n",
              "      <td>pos</td>\n",
              "    </tr>\n",
              "  </tbody>\n",
              "</table>\n",
              "</div>\n",
              "      <button class=\"colab-df-convert\" onclick=\"convertToInteractive('df-7959f442-50fa-44aa-9f63-c1025b21ad7b')\"\n",
              "              title=\"Convert this dataframe to an interactive table.\"\n",
              "              style=\"display:none;\">\n",
              "        \n",
              "  <svg xmlns=\"http://www.w3.org/2000/svg\" height=\"24px\"viewBox=\"0 0 24 24\"\n",
              "       width=\"24px\">\n",
              "    <path d=\"M0 0h24v24H0V0z\" fill=\"none\"/>\n",
              "    <path d=\"M18.56 5.44l.94 2.06.94-2.06 2.06-.94-2.06-.94-.94-2.06-.94 2.06-2.06.94zm-11 1L8.5 8.5l.94-2.06 2.06-.94-2.06-.94L8.5 2.5l-.94 2.06-2.06.94zm10 10l.94 2.06.94-2.06 2.06-.94-2.06-.94-.94-2.06-.94 2.06-2.06.94z\"/><path d=\"M17.41 7.96l-1.37-1.37c-.4-.4-.92-.59-1.43-.59-.52 0-1.04.2-1.43.59L10.3 9.45l-7.72 7.72c-.78.78-.78 2.05 0 2.83L4 21.41c.39.39.9.59 1.41.59.51 0 1.02-.2 1.41-.59l7.78-7.78 2.81-2.81c.8-.78.8-2.07 0-2.86zM5.41 20L4 18.59l7.72-7.72 1.47 1.35L5.41 20z\"/>\n",
              "  </svg>\n",
              "      </button>\n",
              "      \n",
              "  <style>\n",
              "    .colab-df-container {\n",
              "      display:flex;\n",
              "      flex-wrap:wrap;\n",
              "      gap: 12px;\n",
              "    }\n",
              "\n",
              "    .colab-df-convert {\n",
              "      background-color: #E8F0FE;\n",
              "      border: none;\n",
              "      border-radius: 50%;\n",
              "      cursor: pointer;\n",
              "      display: none;\n",
              "      fill: #1967D2;\n",
              "      height: 32px;\n",
              "      padding: 0 0 0 0;\n",
              "      width: 32px;\n",
              "    }\n",
              "\n",
              "    .colab-df-convert:hover {\n",
              "      background-color: #E2EBFA;\n",
              "      box-shadow: 0px 1px 2px rgba(60, 64, 67, 0.3), 0px 1px 3px 1px rgba(60, 64, 67, 0.15);\n",
              "      fill: #174EA6;\n",
              "    }\n",
              "\n",
              "    [theme=dark] .colab-df-convert {\n",
              "      background-color: #3B4455;\n",
              "      fill: #D2E3FC;\n",
              "    }\n",
              "\n",
              "    [theme=dark] .colab-df-convert:hover {\n",
              "      background-color: #434B5C;\n",
              "      box-shadow: 0px 1px 3px 1px rgba(0, 0, 0, 0.15);\n",
              "      filter: drop-shadow(0px 1px 2px rgba(0, 0, 0, 0.3));\n",
              "      fill: #FFFFFF;\n",
              "    }\n",
              "  </style>\n",
              "\n",
              "      <script>\n",
              "        const buttonEl =\n",
              "          document.querySelector('#df-7959f442-50fa-44aa-9f63-c1025b21ad7b button.colab-df-convert');\n",
              "        buttonEl.style.display =\n",
              "          google.colab.kernel.accessAllowed ? 'block' : 'none';\n",
              "\n",
              "        async function convertToInteractive(key) {\n",
              "          const element = document.querySelector('#df-7959f442-50fa-44aa-9f63-c1025b21ad7b');\n",
              "          const dataTable =\n",
              "            await google.colab.kernel.invokeFunction('convertToInteractive',\n",
              "                                                     [key], {});\n",
              "          if (!dataTable) return;\n",
              "\n",
              "          const docLinkHtml = 'Like what you see? Visit the ' +\n",
              "            '<a target=\"_blank\" href=https://colab.research.google.com/notebooks/data_table.ipynb>data table notebook</a>'\n",
              "            + ' to learn more about interactive tables.';\n",
              "          element.innerHTML = '';\n",
              "          dataTable['output_type'] = 'display_data';\n",
              "          await google.colab.output.renderOutput(dataTable, element);\n",
              "          const docLink = document.createElement('div');\n",
              "          docLink.innerHTML = docLinkHtml;\n",
              "          element.appendChild(docLink);\n",
              "        }\n",
              "      </script>\n",
              "    </div>\n",
              "  </div>\n",
              "  "
            ]
          },
          "metadata": {},
          "execution_count": 11
        }
      ]
    },
    {
      "cell_type": "code",
      "source": [
        "df.info()"
      ],
      "metadata": {
        "colab": {
          "base_uri": "https://localhost:8080/"
        },
        "id": "WqaYLpjLb-7Z",
        "outputId": "33b87880-032c-4766-a47e-09edb21f9c9b"
      },
      "execution_count": null,
      "outputs": [
        {
          "output_type": "stream",
          "name": "stdout",
          "text": [
            "<class 'pandas.core.frame.DataFrame'>\n",
            "RangeIndex: 25000 entries, 0 to 24999\n",
            "Data columns (total 2 columns):\n",
            " #   Column  Non-Null Count  Dtype \n",
            "---  ------  --------------  ----- \n",
            " 0   review  25000 non-null  object\n",
            " 1   label   25000 non-null  object\n",
            "dtypes: object(2)\n",
            "memory usage: 390.8+ KB\n"
          ]
        }
      ]
    },
    {
      "cell_type": "markdown",
      "source": [
        "Пропущенных значений нет"
      ],
      "metadata": {
        "id": "x5djoQP2eUFT"
      }
    },
    {
      "cell_type": "code",
      "source": [
        "reviews_test = []\n",
        "labels_test = []"
      ],
      "metadata": {
        "id": "jAlK7TWi2PRn"
      },
      "execution_count": null,
      "outputs": []
    },
    {
      "cell_type": "code",
      "source": [
        "# Перебираем поддиректории с отзывами\n",
        "for label in [\"pos\", \"neg\"]:\n",
        "    dir_name = os.path.join(data_dir, \"test\", label)\n",
        "    for filename in os.listdir(dir_name):\n",
        "        file_path = os.path.join(dir_name, filename)\n",
        "        with open(file_path, \"r\", encoding=\"utf-8\") as file:\n",
        "            review = file.read()\n",
        "            reviews_test.append(review)\n",
        "            labels_test.append(label)"
      ],
      "metadata": {
        "id": "dTYiISx42Cpz"
      },
      "execution_count": null,
      "outputs": []
    },
    {
      "cell_type": "code",
      "source": [
        "df_test = pd.DataFrame({\"review\": reviews_test, \"label\": labels_test})"
      ],
      "metadata": {
        "id": "6nlYwO8I2Xml"
      },
      "execution_count": null,
      "outputs": []
    },
    {
      "cell_type": "code",
      "source": [
        "df_test.head()"
      ],
      "metadata": {
        "colab": {
          "base_uri": "https://localhost:8080/",
          "height": 206
        },
        "id": "AuHimDld2ghm",
        "outputId": "98b357c7-ff82-4c10-8e4a-22d0cc568ce6"
      },
      "execution_count": null,
      "outputs": [
        {
          "output_type": "execute_result",
          "data": {
            "text/plain": [
              "                                              review label\n",
              "0  One hilarious thing I'll say off the top, is I...   pos\n",
              "1  If you like Gary Cooper, this is one of his be...   pos\n",
              "2  Prue and Piper bring Dr. Griffiths to their ho...   pos\n",
              "3  I watched this movie on TCM last night, all ex...   pos\n",
              "4  If you love drive-in cheeze from the early '70...   pos"
            ],
            "text/html": [
              "\n",
              "  <div id=\"df-082235a9-8af9-4eb1-8e93-ff4e20126700\">\n",
              "    <div class=\"colab-df-container\">\n",
              "      <div>\n",
              "<style scoped>\n",
              "    .dataframe tbody tr th:only-of-type {\n",
              "        vertical-align: middle;\n",
              "    }\n",
              "\n",
              "    .dataframe tbody tr th {\n",
              "        vertical-align: top;\n",
              "    }\n",
              "\n",
              "    .dataframe thead th {\n",
              "        text-align: right;\n",
              "    }\n",
              "</style>\n",
              "<table border=\"1\" class=\"dataframe\">\n",
              "  <thead>\n",
              "    <tr style=\"text-align: right;\">\n",
              "      <th></th>\n",
              "      <th>review</th>\n",
              "      <th>label</th>\n",
              "    </tr>\n",
              "  </thead>\n",
              "  <tbody>\n",
              "    <tr>\n",
              "      <th>0</th>\n",
              "      <td>One hilarious thing I'll say off the top, is I...</td>\n",
              "      <td>pos</td>\n",
              "    </tr>\n",
              "    <tr>\n",
              "      <th>1</th>\n",
              "      <td>If you like Gary Cooper, this is one of his be...</td>\n",
              "      <td>pos</td>\n",
              "    </tr>\n",
              "    <tr>\n",
              "      <th>2</th>\n",
              "      <td>Prue and Piper bring Dr. Griffiths to their ho...</td>\n",
              "      <td>pos</td>\n",
              "    </tr>\n",
              "    <tr>\n",
              "      <th>3</th>\n",
              "      <td>I watched this movie on TCM last night, all ex...</td>\n",
              "      <td>pos</td>\n",
              "    </tr>\n",
              "    <tr>\n",
              "      <th>4</th>\n",
              "      <td>If you love drive-in cheeze from the early '70...</td>\n",
              "      <td>pos</td>\n",
              "    </tr>\n",
              "  </tbody>\n",
              "</table>\n",
              "</div>\n",
              "      <button class=\"colab-df-convert\" onclick=\"convertToInteractive('df-082235a9-8af9-4eb1-8e93-ff4e20126700')\"\n",
              "              title=\"Convert this dataframe to an interactive table.\"\n",
              "              style=\"display:none;\">\n",
              "        \n",
              "  <svg xmlns=\"http://www.w3.org/2000/svg\" height=\"24px\"viewBox=\"0 0 24 24\"\n",
              "       width=\"24px\">\n",
              "    <path d=\"M0 0h24v24H0V0z\" fill=\"none\"/>\n",
              "    <path d=\"M18.56 5.44l.94 2.06.94-2.06 2.06-.94-2.06-.94-.94-2.06-.94 2.06-2.06.94zm-11 1L8.5 8.5l.94-2.06 2.06-.94-2.06-.94L8.5 2.5l-.94 2.06-2.06.94zm10 10l.94 2.06.94-2.06 2.06-.94-2.06-.94-.94-2.06-.94 2.06-2.06.94z\"/><path d=\"M17.41 7.96l-1.37-1.37c-.4-.4-.92-.59-1.43-.59-.52 0-1.04.2-1.43.59L10.3 9.45l-7.72 7.72c-.78.78-.78 2.05 0 2.83L4 21.41c.39.39.9.59 1.41.59.51 0 1.02-.2 1.41-.59l7.78-7.78 2.81-2.81c.8-.78.8-2.07 0-2.86zM5.41 20L4 18.59l7.72-7.72 1.47 1.35L5.41 20z\"/>\n",
              "  </svg>\n",
              "      </button>\n",
              "      \n",
              "  <style>\n",
              "    .colab-df-container {\n",
              "      display:flex;\n",
              "      flex-wrap:wrap;\n",
              "      gap: 12px;\n",
              "    }\n",
              "\n",
              "    .colab-df-convert {\n",
              "      background-color: #E8F0FE;\n",
              "      border: none;\n",
              "      border-radius: 50%;\n",
              "      cursor: pointer;\n",
              "      display: none;\n",
              "      fill: #1967D2;\n",
              "      height: 32px;\n",
              "      padding: 0 0 0 0;\n",
              "      width: 32px;\n",
              "    }\n",
              "\n",
              "    .colab-df-convert:hover {\n",
              "      background-color: #E2EBFA;\n",
              "      box-shadow: 0px 1px 2px rgba(60, 64, 67, 0.3), 0px 1px 3px 1px rgba(60, 64, 67, 0.15);\n",
              "      fill: #174EA6;\n",
              "    }\n",
              "\n",
              "    [theme=dark] .colab-df-convert {\n",
              "      background-color: #3B4455;\n",
              "      fill: #D2E3FC;\n",
              "    }\n",
              "\n",
              "    [theme=dark] .colab-df-convert:hover {\n",
              "      background-color: #434B5C;\n",
              "      box-shadow: 0px 1px 3px 1px rgba(0, 0, 0, 0.15);\n",
              "      filter: drop-shadow(0px 1px 2px rgba(0, 0, 0, 0.3));\n",
              "      fill: #FFFFFF;\n",
              "    }\n",
              "  </style>\n",
              "\n",
              "      <script>\n",
              "        const buttonEl =\n",
              "          document.querySelector('#df-082235a9-8af9-4eb1-8e93-ff4e20126700 button.colab-df-convert');\n",
              "        buttonEl.style.display =\n",
              "          google.colab.kernel.accessAllowed ? 'block' : 'none';\n",
              "\n",
              "        async function convertToInteractive(key) {\n",
              "          const element = document.querySelector('#df-082235a9-8af9-4eb1-8e93-ff4e20126700');\n",
              "          const dataTable =\n",
              "            await google.colab.kernel.invokeFunction('convertToInteractive',\n",
              "                                                     [key], {});\n",
              "          if (!dataTable) return;\n",
              "\n",
              "          const docLinkHtml = 'Like what you see? Visit the ' +\n",
              "            '<a target=\"_blank\" href=https://colab.research.google.com/notebooks/data_table.ipynb>data table notebook</a>'\n",
              "            + ' to learn more about interactive tables.';\n",
              "          element.innerHTML = '';\n",
              "          dataTable['output_type'] = 'display_data';\n",
              "          await google.colab.output.renderOutput(dataTable, element);\n",
              "          const docLink = document.createElement('div');\n",
              "          docLink.innerHTML = docLinkHtml;\n",
              "          element.appendChild(docLink);\n",
              "        }\n",
              "      </script>\n",
              "    </div>\n",
              "  </div>\n",
              "  "
            ]
          },
          "metadata": {},
          "execution_count": 16
        }
      ]
    },
    {
      "cell_type": "code",
      "source": [
        "df_test.info()"
      ],
      "metadata": {
        "colab": {
          "base_uri": "https://localhost:8080/"
        },
        "id": "Dm1npuvi5b6B",
        "outputId": "42a63814-ec27-44b0-fb67-58070c7a5b37"
      },
      "execution_count": null,
      "outputs": [
        {
          "output_type": "stream",
          "name": "stdout",
          "text": [
            "<class 'pandas.core.frame.DataFrame'>\n",
            "RangeIndex: 25000 entries, 0 to 24999\n",
            "Data columns (total 2 columns):\n",
            " #   Column  Non-Null Count  Dtype \n",
            "---  ------  --------------  ----- \n",
            " 0   review  25000 non-null  object\n",
            " 1   label   25000 non-null  object\n",
            "dtypes: object(2)\n",
            "memory usage: 390.8+ KB\n"
          ]
        }
      ]
    },
    {
      "cell_type": "markdown",
      "source": [
        "Пропущенные значения в тестовой выборке так же отсутствуют"
      ],
      "metadata": {
        "id": "ESvjYW0l5kB-"
      }
    },
    {
      "cell_type": "markdown",
      "source": [
        "Для удобства обработки данных и дальнейшей аналити, будет удобно объединить два датафрейма в один"
      ],
      "metadata": {
        "id": "VbZStCW87jV3"
      }
    },
    {
      "cell_type": "code",
      "source": [
        "data = pd.concat([df, df_test])"
      ],
      "metadata": {
        "id": "Wj4CVItK7ufh"
      },
      "execution_count": null,
      "outputs": []
    },
    {
      "cell_type": "code",
      "source": [
        "Counter(data.label) # проверяем сбалансированность классов"
      ],
      "metadata": {
        "colab": {
          "base_uri": "https://localhost:8080/"
        },
        "id": "x6i-sJHad-r7",
        "outputId": "bf9819e1-731e-4122-aed5-71f428171b27"
      },
      "execution_count": null,
      "outputs": [
        {
          "output_type": "execute_result",
          "data": {
            "text/plain": [
              "Counter({'pos': 25000, 'neg': 25000})"
            ]
          },
          "metadata": {},
          "execution_count": 19
        }
      ]
    },
    {
      "cell_type": "code",
      "source": [
        "nltk.download('stopwords')\n",
        "nltk.download('punkt')"
      ],
      "metadata": {
        "colab": {
          "base_uri": "https://localhost:8080/"
        },
        "id": "vb0KqxPziHwJ",
        "outputId": "85be4be1-629c-4de4-a3c0-50c646d697c7"
      },
      "execution_count": null,
      "outputs": [
        {
          "output_type": "stream",
          "name": "stderr",
          "text": [
            "[nltk_data] Downloading package stopwords to /root/nltk_data...\n",
            "[nltk_data]   Unzipping corpora/stopwords.zip.\n",
            "[nltk_data] Downloading package punkt to /root/nltk_data...\n",
            "[nltk_data]   Unzipping tokenizers/punkt.zip.\n"
          ]
        },
        {
          "output_type": "execute_result",
          "data": {
            "text/plain": [
              "True"
            ]
          },
          "metadata": {},
          "execution_count": 20
        }
      ]
    },
    {
      "cell_type": "markdown",
      "source": [
        "Создадим список стоп-слов, при  этом оставим отрицания, так как они могу иметь важное значение в контексте всего отзыва"
      ],
      "metadata": {
        "id": "hpV9iZijlmXb"
      }
    },
    {
      "cell_type": "code",
      "source": [
        "denial = [\"no\", \"not\", \"never\", \"neither\", \"nor\", \"none\", \"nobody\", \"nowhere\", \"nothing\",\n",
        "           \"nonexistent\", \"no way\", \"no one\", \"no more\", \"not anymore\",\n",
        "           \"not at all\", \"not even\", \"not yet\", \"not necessarily\",\n",
        "           \"not necessarily true\", \"not necessarily the case\", \"don't\",\n",
        "           \"doesn't\", \"didn't\", \"won't\", \"wouldn't\", \"can't\", \"couldn't\",\n",
        "           \"shouldn't\", \"mustn't\", \"isn't\", \"aren't\", \"wasn't\", \"weren't\",\n",
        "           \"hasn't\", \"haven't\", \"hadn't\", \"isn't it\", \"aren't you\", \"wasn't he\",\n",
        "           \"weren't they\", \"hasn't she\", \"haven't we\", \"hadn't i\", \"isn't there\",\n",
        "           \"aren't they\", \"wasn't it\", \"weren't you\", \"hasn't he\", \"haven't i\",\n",
        "           \"hadn't she\", \"isn't that\", \"aren't we\", \"wasn't she\", \"weren't there\",\n",
        "           \"hasn't it\", \"haven't they\", \"hadn't we\", \"isn't he\", \"aren't there\", \"wasn't there\",\n",
        "           \"weren't we\", \"hasn't she\", \"haven't you\", \"hadn't they\"]"
      ],
      "metadata": {
        "id": "_8HPzdzqiy-p"
      },
      "execution_count": null,
      "outputs": []
    },
    {
      "cell_type": "code",
      "source": [
        "stop_words = list(set(stopwords.words('english')) - set(denial))"
      ],
      "metadata": {
        "id": "e8qOcZYBkvD1"
      },
      "execution_count": null,
      "outputs": []
    },
    {
      "cell_type": "markdown",
      "source": [
        "Токенизируем и очищаем текст. Смайлы в тексте практически не используются, поэтому не будем им придавать значения и очистим от них текст, цифры так же не влияют не эмоцианьный окрас отзыва. Оставим в отзывах только слова."
      ],
      "metadata": {
        "id": "HSvDfp1Rpgdw"
      }
    },
    {
      "cell_type": "code",
      "source": [
        "m = pymorphy2.MorphAnalyzer()"
      ],
      "metadata": {
        "id": "2n0mQHKIqHea"
      },
      "execution_count": null,
      "outputs": []
    },
    {
      "cell_type": "code",
      "source": [
        "# функция возвращает только слова\n",
        "def words_only(text):\n",
        "    if re.findall(\"[A-za-z]+\",text):\n",
        "     return text"
      ],
      "metadata": {
        "id": "Siot775f2x82"
      },
      "execution_count": null,
      "outputs": []
    },
    {
      "cell_type": "code",
      "source": [
        "def pre_process(text): # функция для преобразования,очистки текста и лемматизации\n",
        "  doc_out = \"\"\n",
        "  for token in word_tokenize(text):\n",
        "    if token not in stop_words and token not in punctuation:\n",
        "      word = words_only(m.parse(token)[0].normal_form)\n",
        "      if word:\n",
        "        doc_out = doc_out + \" \" + word.strip('`')\n",
        "  return doc_out"
      ],
      "metadata": {
        "id": "cmKaYTslpKHG"
      },
      "execution_count": null,
      "outputs": []
    },
    {
      "cell_type": "code",
      "source": [
        "data['text_clear'] = df.review.apply(pre_process)"
      ],
      "metadata": {
        "id": "NnB9aKrmqxGL"
      },
      "execution_count": null,
      "outputs": []
    },
    {
      "cell_type": "code",
      "source": [
        "data.head()"
      ],
      "metadata": {
        "id": "tFeJgqkg8uU5",
        "colab": {
          "base_uri": "https://localhost:8080/",
          "height": 206
        },
        "outputId": "0d193790-8510-4f58-a144-1fd452076107"
      },
      "execution_count": null,
      "outputs": [
        {
          "output_type": "execute_result",
          "data": {
            "text/plain": [
              "                                              review label  \\\n",
              "0  I have no idea what people are complaining abo...   pos   \n",
              "1  I was dragged to this movie about four years a...   pos   \n",
              "2  This film came out 12 years years ago, and was...   pos   \n",
              "3  It's a shame that this piece of work wasn't ac...   pos   \n",
              "4  I just saw this at the Toronto Film Festival, ...   pos   \n",
              "\n",
              "                                          text_clear  \n",
              "0   i no idea people complaining i saw movie yest...  \n",
              "1   i dragged movie four years ago french actress...  \n",
              "2   this film came years years ago revelation eve...  \n",
              "3   it 's shame piece work n't acknowledged piece...  \n",
              "4   i saw toronto film festival i hope gets wide ...  "
            ],
            "text/html": [
              "\n",
              "  <div id=\"df-0ab3b476-b6a0-4f4c-8084-dffbd864fa5b\">\n",
              "    <div class=\"colab-df-container\">\n",
              "      <div>\n",
              "<style scoped>\n",
              "    .dataframe tbody tr th:only-of-type {\n",
              "        vertical-align: middle;\n",
              "    }\n",
              "\n",
              "    .dataframe tbody tr th {\n",
              "        vertical-align: top;\n",
              "    }\n",
              "\n",
              "    .dataframe thead th {\n",
              "        text-align: right;\n",
              "    }\n",
              "</style>\n",
              "<table border=\"1\" class=\"dataframe\">\n",
              "  <thead>\n",
              "    <tr style=\"text-align: right;\">\n",
              "      <th></th>\n",
              "      <th>review</th>\n",
              "      <th>label</th>\n",
              "      <th>text_clear</th>\n",
              "    </tr>\n",
              "  </thead>\n",
              "  <tbody>\n",
              "    <tr>\n",
              "      <th>0</th>\n",
              "      <td>I have no idea what people are complaining abo...</td>\n",
              "      <td>pos</td>\n",
              "      <td>i no idea people complaining i saw movie yest...</td>\n",
              "    </tr>\n",
              "    <tr>\n",
              "      <th>1</th>\n",
              "      <td>I was dragged to this movie about four years a...</td>\n",
              "      <td>pos</td>\n",
              "      <td>i dragged movie four years ago french actress...</td>\n",
              "    </tr>\n",
              "    <tr>\n",
              "      <th>2</th>\n",
              "      <td>This film came out 12 years years ago, and was...</td>\n",
              "      <td>pos</td>\n",
              "      <td>this film came years years ago revelation eve...</td>\n",
              "    </tr>\n",
              "    <tr>\n",
              "      <th>3</th>\n",
              "      <td>It's a shame that this piece of work wasn't ac...</td>\n",
              "      <td>pos</td>\n",
              "      <td>it 's shame piece work n't acknowledged piece...</td>\n",
              "    </tr>\n",
              "    <tr>\n",
              "      <th>4</th>\n",
              "      <td>I just saw this at the Toronto Film Festival, ...</td>\n",
              "      <td>pos</td>\n",
              "      <td>i saw toronto film festival i hope gets wide ...</td>\n",
              "    </tr>\n",
              "  </tbody>\n",
              "</table>\n",
              "</div>\n",
              "      <button class=\"colab-df-convert\" onclick=\"convertToInteractive('df-0ab3b476-b6a0-4f4c-8084-dffbd864fa5b')\"\n",
              "              title=\"Convert this dataframe to an interactive table.\"\n",
              "              style=\"display:none;\">\n",
              "        \n",
              "  <svg xmlns=\"http://www.w3.org/2000/svg\" height=\"24px\"viewBox=\"0 0 24 24\"\n",
              "       width=\"24px\">\n",
              "    <path d=\"M0 0h24v24H0V0z\" fill=\"none\"/>\n",
              "    <path d=\"M18.56 5.44l.94 2.06.94-2.06 2.06-.94-2.06-.94-.94-2.06-.94 2.06-2.06.94zm-11 1L8.5 8.5l.94-2.06 2.06-.94-2.06-.94L8.5 2.5l-.94 2.06-2.06.94zm10 10l.94 2.06.94-2.06 2.06-.94-2.06-.94-.94-2.06-.94 2.06-2.06.94z\"/><path d=\"M17.41 7.96l-1.37-1.37c-.4-.4-.92-.59-1.43-.59-.52 0-1.04.2-1.43.59L10.3 9.45l-7.72 7.72c-.78.78-.78 2.05 0 2.83L4 21.41c.39.39.9.59 1.41.59.51 0 1.02-.2 1.41-.59l7.78-7.78 2.81-2.81c.8-.78.8-2.07 0-2.86zM5.41 20L4 18.59l7.72-7.72 1.47 1.35L5.41 20z\"/>\n",
              "  </svg>\n",
              "      </button>\n",
              "      \n",
              "  <style>\n",
              "    .colab-df-container {\n",
              "      display:flex;\n",
              "      flex-wrap:wrap;\n",
              "      gap: 12px;\n",
              "    }\n",
              "\n",
              "    .colab-df-convert {\n",
              "      background-color: #E8F0FE;\n",
              "      border: none;\n",
              "      border-radius: 50%;\n",
              "      cursor: pointer;\n",
              "      display: none;\n",
              "      fill: #1967D2;\n",
              "      height: 32px;\n",
              "      padding: 0 0 0 0;\n",
              "      width: 32px;\n",
              "    }\n",
              "\n",
              "    .colab-df-convert:hover {\n",
              "      background-color: #E2EBFA;\n",
              "      box-shadow: 0px 1px 2px rgba(60, 64, 67, 0.3), 0px 1px 3px 1px rgba(60, 64, 67, 0.15);\n",
              "      fill: #174EA6;\n",
              "    }\n",
              "\n",
              "    [theme=dark] .colab-df-convert {\n",
              "      background-color: #3B4455;\n",
              "      fill: #D2E3FC;\n",
              "    }\n",
              "\n",
              "    [theme=dark] .colab-df-convert:hover {\n",
              "      background-color: #434B5C;\n",
              "      box-shadow: 0px 1px 3px 1px rgba(0, 0, 0, 0.15);\n",
              "      filter: drop-shadow(0px 1px 2px rgba(0, 0, 0, 0.3));\n",
              "      fill: #FFFFFF;\n",
              "    }\n",
              "  </style>\n",
              "\n",
              "      <script>\n",
              "        const buttonEl =\n",
              "          document.querySelector('#df-0ab3b476-b6a0-4f4c-8084-dffbd864fa5b button.colab-df-convert');\n",
              "        buttonEl.style.display =\n",
              "          google.colab.kernel.accessAllowed ? 'block' : 'none';\n",
              "\n",
              "        async function convertToInteractive(key) {\n",
              "          const element = document.querySelector('#df-0ab3b476-b6a0-4f4c-8084-dffbd864fa5b');\n",
              "          const dataTable =\n",
              "            await google.colab.kernel.invokeFunction('convertToInteractive',\n",
              "                                                     [key], {});\n",
              "          if (!dataTable) return;\n",
              "\n",
              "          const docLinkHtml = 'Like what you see? Visit the ' +\n",
              "            '<a target=\"_blank\" href=https://colab.research.google.com/notebooks/data_table.ipynb>data table notebook</a>'\n",
              "            + ' to learn more about interactive tables.';\n",
              "          element.innerHTML = '';\n",
              "          dataTable['output_type'] = 'display_data';\n",
              "          await google.colab.output.renderOutput(dataTable, element);\n",
              "          const docLink = document.createElement('div');\n",
              "          docLink.innerHTML = docLinkHtml;\n",
              "          element.appendChild(docLink);\n",
              "        }\n",
              "      </script>\n",
              "    </div>\n",
              "  </div>\n",
              "  "
            ]
          },
          "metadata": {},
          "execution_count": 27
        }
      ]
    },
    {
      "cell_type": "markdown",
      "source": [
        "#Анализ данных"
      ],
      "metadata": {
        "id": "pKTOolvT85x1"
      }
    },
    {
      "cell_type": "code",
      "source": [
        "import seaborn as sns\n",
        "import matplotlib.pyplot as plt\n",
        "from nltk.probability import FreqDist\n",
        "from matplotlib.pyplot import MultipleLocator"
      ],
      "metadata": {
        "id": "W0R7Lsbn9Ehf"
      },
      "execution_count": null,
      "outputs": []
    },
    {
      "cell_type": "code",
      "source": [
        "review_len = pd.Series([len(review.split()) for review in data['review']])\n",
        "review_len.plot(kind='box')\n",
        "plt.title(\"Распределение длины отзывов\")\n",
        "plt.yticks(ticks = range(0, 2600, 100),rotation= 0)\n",
        "plt.grid()\n",
        "plt.show()"
      ],
      "metadata": {
        "id": "AjzYiG-d9Wap",
        "colab": {
          "base_uri": "https://localhost:8080/",
          "height": 433
        },
        "outputId": "f0688a32-5537-4592-8234-3d60091604c4"
      },
      "execution_count": null,
      "outputs": [
        {
          "output_type": "display_data",
          "data": {
            "text/plain": [
              "<Figure size 640x480 with 1 Axes>"
            ],
            "image/png": "[encoded data removed]"
          },
          "metadata": {}
        }
      ]
    },
    {
      "cell_type": "markdown",
      "source": [
        "Судя по графику,в основном отзывы содержат от 100 до 300 слов"
      ],
      "metadata": {
        "id": "PkxMn7e0-L7U"
      }
    },
    {
      "cell_type": "code",
      "source": [
        "fig = plt.figure(figsize=(14,6), dpi = 120)\n",
        "data['length'] = data.review.str.split().apply(len)\n",
        "ax1 = fig.add_subplot(122)\n",
        "sns.histplot(data[data['label']== 'pos']['length'], ax=ax1,color='green')\n",
        "describe = data.length[data.label== 'pos'].describe().to_frame().round(2)\n",
        "\n",
        "ax2 = fig.add_subplot(121)\n",
        "ax2.axis('off')\n",
        "font_size = 14\n",
        "bbox = [0, 0, 1, 1]\n",
        "table = ax2.table(cellText = describe.values, rowLabels = describe.index, bbox=bbox, colLabels=describe.columns)\n",
        "table.set_fontsize(font_size)\n",
        "fig.suptitle('Распределение длины текста положительных отзывов', fontsize=16)\n",
        "\n",
        "plt.show()"
      ],
      "metadata": {
        "id": "B5uTihwLDI42",
        "colab": {
          "base_uri": "https://localhost:8080/",
          "height": 550
        },
        "outputId": "a0a668b8-67fe-4828-dc01-a5b8fb2c98fd"
      },
      "execution_count": null,
      "outputs": [
        {
          "output_type": "display_data",
          "data": {
            "text/plain": [
              "<Figure size 1680x720 with 2 Axes>"
            ],
            "image/png": "[encoded data removed]"
          },
          "metadata": {}
        }
      ]
    },
    {
      "cell_type": "code",
      "source": [
        "fig = plt.figure(figsize=(14,6), dpi = 120)\n",
        "data['length'] = data.review.str.split().apply(len)\n",
        "ax1 = fig.add_subplot(122)\n",
        "sns.histplot(data[data['label']== 'neg']['length'], ax=ax1,color='red')\n",
        "describe = data.length[data.label== 'neg'].describe().to_frame().round(2)\n",
        "\n",
        "ax2 = fig.add_subplot(121)\n",
        "ax2.axis('off')\n",
        "font_size = 14\n",
        "bbox = [0, 0, 1, 1]\n",
        "table = ax2.table(cellText = describe.values, rowLabels = describe.index, bbox=bbox, colLabels=describe.columns)\n",
        "table.set_fontsize(font_size)\n",
        "fig.suptitle('Распределение длины текста отрицательных отзывов', fontsize=16)\n",
        "\n",
        "plt.show()"
      ],
      "metadata": {
        "id": "mMy0PvanEJE9",
        "colab": {
          "base_uri": "https://localhost:8080/",
          "height": 551
        },
        "outputId": "606cc0fa-d6ed-4ddb-a1e2-6fca21abd7e8"
      },
      "execution_count": null,
      "outputs": [
        {
          "output_type": "display_data",
          "data": {
            "text/plain": [
              "<Figure size 1680x720 with 2 Axes>"
            ],
            "image/png": "[encoded data removed]"
          },
          "metadata": {}
        }
      ]
    },
    {
      "cell_type": "markdown",
      "source": [
        "В среднем положительные и отрицательные отзывы имеют почти одинаковую длину. Построим распределение по длине слов."
      ],
      "metadata": {
        "id": "AlL2Pn9GEpWz"
      }
    },
    {
      "cell_type": "code",
      "source": [
        "# добавляем в массив длину каждого слова\n",
        "count_word = []\n",
        "for i in data['review']:\n",
        "  for j in i.split():\n",
        "    count_word.append(len(j))"
      ],
      "metadata": {
        "id": "rpSqhCReVcSZ"
      },
      "execution_count": null,
      "outputs": []
    },
    {
      "cell_type": "code",
      "source": [
        "fig = plt.figure(figsize=(17,6), dpi = 120)\n",
        "ax1 = fig.add_subplot(122)\n",
        "sns.histplot(count_word, ax=ax1,color='green', binwidth= 1)\n",
        "describe = pd.Series(count_word).describe().to_frame().round(2)\n",
        "ax1.set_xlim([0, 17])\n",
        "ax1.set_xticks(ticks = range(1,18))\n",
        "plt.grid()\n",
        "\n",
        "ax2 = fig.add_subplot(121)\n",
        "ax2.axis('off')\n",
        "font_size = 14\n",
        "bbox = [0, 0, 1, 1]\n",
        "table = ax2.table(cellText = describe.values, rowLabels = describe.index, bbox=bbox, colLabels=describe.columns)\n",
        "table.set_fontsize(font_size)\n",
        "fig.suptitle('Распределение длины слов до очистки текста', fontsize=16)\n",
        "\n",
        "plt.show()"
      ],
      "metadata": {
        "id": "MY9EH8AkWFgU",
        "colab": {
          "base_uri": "https://localhost:8080/",
          "height": 444
        },
        "outputId": "52e88749-ef3a-48c1-8dc1-8a05d19bae51"
      },
      "execution_count": null,
      "outputs": [
        {
          "output_type": "display_data",
          "data": {
            "text/plain": [
              "<Figure size 2040x720 with 2 Axes>"
            ],
            "image/png": "[encoded data removed]"
          },
          "metadata": {}
        }
      ]
    },
    {
      "cell_type": "code",
      "source": [
        "# добавляем в массив длину каждого слова\n",
        "count_word_clear = []\n",
        "for i in data['text_clear']:\n",
        "  for j in i.split():\n",
        "    count_word_clear.append(len(j))"
      ],
      "metadata": {
        "id": "LP57c53o95BJ"
      },
      "execution_count": null,
      "outputs": []
    },
    {
      "cell_type": "code",
      "source": [
        "fig = plt.figure(figsize=(17,6), dpi = 120)\n",
        "ax1 = fig.add_subplot(122)\n",
        "sns.histplot(count_word_clear, ax=ax1,color='green', binwidth= 1)\n",
        "describe = pd.Series(count_word_clear).describe().to_frame().round(2)\n",
        "ax1.set_xlim([0, 17])\n",
        "ax1.set_xticks(ticks = range(1,18))\n",
        "plt.grid()\n",
        "\n",
        "ax2 = fig.add_subplot(121)\n",
        "ax2.axis('off')\n",
        "font_size = 14\n",
        "bbox = [0, 0, 1, 1]\n",
        "table = ax2.table(cellText = describe.values, rowLabels = describe.index, bbox=bbox, colLabels=describe.columns)\n",
        "table.set_fontsize(font_size)\n",
        "fig.suptitle('Распределение длины слов после очистки текста', fontsize=16)\n",
        "\n",
        "plt.show()"
      ],
      "metadata": {
        "id": "NCdV7Li6-HsH",
        "colab": {
          "base_uri": "https://localhost:8080/",
          "height": 444
        },
        "outputId": "8f4ba40a-8dc9-48e0-e4d5-fa22fd45fb24"
      },
      "execution_count": null,
      "outputs": [
        {
          "output_type": "display_data",
          "data": {
            "text/plain": [
              "<Figure size 2040x720 with 2 Axes>"
            ],
            "image/png": "[encoded data removed]"
          },
          "metadata": {}
        }
      ]
    },
    {
      "cell_type": "markdown",
      "source": [
        "В среднем длина слов до очистки и после практически не изменилась. Осталось достаточно много слов состоящих из одной буквы. Предположительно они являются мусором, так как именно из слов в английском языке состоящими из одной буквы, явлеется только 'I'"
      ],
      "metadata": {
        "id": "fOh9lomb-pKJ"
      }
    },
    {
      "cell_type": "code",
      "source": [
        "def not_one_letter(text):\n",
        "  txt = ''\n",
        "  for i in text.split():\n",
        "    if len(i)>1 or i == 'i':\n",
        "      txt = txt + \" \" + i\n",
        "  return txt\n"
      ],
      "metadata": {
        "id": "WXZA1Otj_wRl"
      },
      "execution_count": null,
      "outputs": []
    },
    {
      "cell_type": "code",
      "source": [
        "data['text_clear'] = data['text_clear'].apply(not_one_letter)"
      ],
      "metadata": {
        "id": "KEDe8Wt9_UKn"
      },
      "execution_count": null,
      "outputs": []
    },
    {
      "cell_type": "code",
      "source": [
        "data['text_clear'].head()"
      ],
      "metadata": {
        "id": "fQk7MqH3AsMc",
        "colab": {
          "base_uri": "https://localhost:8080/"
        },
        "outputId": "2ac4e127-d138-456b-d1d0-366a4d723c9c"
      },
      "execution_count": null,
      "outputs": [
        {
          "output_type": "execute_result",
          "data": {
            "text/plain": [
              "0     i no idea people complaining i saw movie yest...\n",
              "1     i dragged movie four years ago french actress...\n",
              "2     this film came years years ago revelation eve...\n",
              "3     it 's shame piece work n't acknowledged piece...\n",
              "4     i saw toronto film festival i hope gets wide ...\n",
              "Name: text_clear, dtype: object"
            ]
          },
          "metadata": {},
          "execution_count": 36
        }
      ]
    },
    {
      "cell_type": "markdown",
      "source": [
        "Визуализируем частотность употребления слов в негативных и позитивных отзывах"
      ],
      "metadata": {
        "id": "nZA8frZbGy4E"
      }
    },
    {
      "cell_type": "code",
      "source": [
        "fdist_pos = FreqDist((\" \".join(data[data['label'] == 'pos']['text_clear'].to_list())).split())"
      ],
      "metadata": {
        "id": "OPhkr82xC8oR"
      },
      "execution_count": null,
      "outputs": []
    },
    {
      "cell_type": "code",
      "source": [
        "plt.title('30 часто употребляемых слов позитивного класса')\n",
        "fdist_pos.plot(30,cumulative=False)\n",
        "plt.show()"
      ],
      "metadata": {
        "id": "rI8-V_sLGoDt",
        "colab": {
          "base_uri": "https://localhost:8080/",
          "height": 505
        },
        "outputId": "fd9ec105-bcdf-42c7-b123-e3b89af3a67d"
      },
      "execution_count": null,
      "outputs": [
        {
          "output_type": "display_data",
          "data": {
            "text/plain": [
              "<Figure size 640x480 with 1 Axes>"
            ],
            "image/png": "[encoded data removed]"
          },
          "metadata": {}
        }
      ]
    },
    {
      "cell_type": "code",
      "source": [
        "fdist_neg = FreqDist((\" \".join(data[data['label'] == 'neg']['text_clear'].to_list())).split())"
      ],
      "metadata": {
        "id": "qQPmJd8XGSIv"
      },
      "execution_count": null,
      "outputs": []
    },
    {
      "cell_type": "code",
      "source": [
        "plt.title('30 часто употребляемых слов негативного класса')\n",
        "fdist_neg.plot(30,cumulative=False)\n",
        "plt.show()"
      ],
      "metadata": {
        "id": "9t-p0LMuHVcM",
        "colab": {
          "base_uri": "https://localhost:8080/",
          "height": 505
        },
        "outputId": "0c26099f-0c71-418a-e30c-47a39372f233"
      },
      "execution_count": null,
      "outputs": [
        {
          "output_type": "display_data",
          "data": {
            "text/plain": [
              "<Figure size 640x480 with 1 Axes>"
            ],
            "image/png": "[encoded data removed]"
          },
          "metadata": {}
        }
      ]
    },
    {
      "cell_type": "markdown",
      "source": [
        "#Обучение модели"
      ],
      "metadata": {
        "id": "W41_fN8azj9y"
      }
    },
    {
      "cell_type": "markdown",
      "source": [
        "## Подготовка данных для обучения"
      ],
      "metadata": {
        "id": "N1mGVzpA2UQt"
      }
    },
    {
      "cell_type": "markdown",
      "source": [
        "Преоразуем категориальные пременные и текст в числовой формат"
      ],
      "metadata": {
        "id": "YZrCoqPE2hYj"
      }
    },
    {
      "cell_type": "code",
      "source": [
        "from sklearn.feature_extraction.text import TfidfVectorizer\n",
        "from sklearn.model_selection import train_test_split"
      ],
      "metadata": {
        "id": "1Ny9NTKB2rU7"
      },
      "execution_count": null,
      "outputs": []
    },
    {
      "cell_type": "code",
      "source": [
        "data_for_train = data[['text_clear', 'label']]"
      ],
      "metadata": {
        "id": "prtlq0vHJC1q"
      },
      "execution_count": null,
      "outputs": []
    },
    {
      "cell_type": "code",
      "source": [
        "data_for_train['label'] = data_for_train['label'].replace({'neg':0, 'pos':1})"
      ],
      "metadata": {
        "colab": {
          "base_uri": "https://localhost:8080/"
        },
        "id": "7aUMVD7YyQr8",
        "outputId": "ae5cbf8c-228b-403a-9c91-7645d8c14d09"
      },
      "execution_count": null,
      "outputs": [
        {
          "output_type": "stream",
          "name": "stderr",
          "text": [
            "<ipython-input-30-328d482e7acc>:1: SettingWithCopyWarning: \n",
            "A value is trying to be set on a copy of a slice from a DataFrame.\n",
            "Try using .loc[row_indexer,col_indexer] = value instead\n",
            "\n",
            "See the caveats in the documentation: https://pandas.pydata.org/pandas-docs/stable/user_guide/indexing.html#returning-a-view-versus-a-copy\n",
            "  data_for_train['label'] = data_for_train['label'].replace({'neg':0, 'pos':1})\n"
          ]
        }
      ]
    },
    {
      "cell_type": "code",
      "source": [
        "data_for_train"
      ],
      "metadata": {
        "colab": {
          "base_uri": "https://localhost:8080/",
          "height": 423
        },
        "id": "zEODjVyjyhBd",
        "outputId": "1a33c14f-7b29-42db-9ad4-5b00b20fe260"
      },
      "execution_count": null,
      "outputs": [
        {
          "output_type": "execute_result",
          "data": {
            "text/plain": [
              "                                              text_clear  label\n",
              "0       i no idea people complaining i saw movie yest...      1\n",
              "1       i dragged movie four years ago french actress...      1\n",
              "2       this film came years years ago revelation eve...      1\n",
              "3       it 's shame piece work n't acknowledged piece...      1\n",
              "4       i saw toronto film festival i hope gets wide ...      1\n",
              "...                                                  ...    ...\n",
              "24995   checking spoiler alert case. br br perhaps on...      0\n",
              "24996   special effects good. br br script terrible n...      0\n",
              "24997   this movie little poorly-made fetish porn say...      0\n",
              "24998   not interesting teen whodunit saved turkey de...      0\n",
              "24999   i done quite reviews imdb film unique i never...      0\n",
              "\n",
              "[50000 rows x 2 columns]"
            ],
            "text/html": [
              "\n",
              "  <div id=\"df-fbdcfe48-3b9a-4848-9a1a-d75e0327c1c3\">\n",
              "    <div class=\"colab-df-container\">\n",
              "      <div>\n",
              "<style scoped>\n",
              "    .dataframe tbody tr th:only-of-type {\n",
              "        vertical-align: middle;\n",
              "    }\n",
              "\n",
              "    .dataframe tbody tr th {\n",
              "        vertical-align: top;\n",
              "    }\n",
              "\n",
              "    .dataframe thead th {\n",
              "        text-align: right;\n",
              "    }\n",
              "</style>\n",
              "<table border=\"1\" class=\"dataframe\">\n",
              "  <thead>\n",
              "    <tr style=\"text-align: right;\">\n",
              "      <th></th>\n",
              "      <th>text_clear</th>\n",
              "      <th>label</th>\n",
              "    </tr>\n",
              "  </thead>\n",
              "  <tbody>\n",
              "    <tr>\n",
              "      <th>0</th>\n",
              "      <td>i no idea people complaining i saw movie yest...</td>\n",
              "      <td>1</td>\n",
              "    </tr>\n",
              "    <tr>\n",
              "      <th>1</th>\n",
              "      <td>i dragged movie four years ago french actress...</td>\n",
              "      <td>1</td>\n",
              "    </tr>\n",
              "    <tr>\n",
              "      <th>2</th>\n",
              "      <td>this film came years years ago revelation eve...</td>\n",
              "      <td>1</td>\n",
              "    </tr>\n",
              "    <tr>\n",
              "      <th>3</th>\n",
              "      <td>it 's shame piece work n't acknowledged piece...</td>\n",
              "      <td>1</td>\n",
              "    </tr>\n",
              "    <tr>\n",
              "      <th>4</th>\n",
              "      <td>i saw toronto film festival i hope gets wide ...</td>\n",
              "      <td>1</td>\n",
              "    </tr>\n",
              "    <tr>\n",
              "      <th>...</th>\n",
              "      <td>...</td>\n",
              "      <td>...</td>\n",
              "    </tr>\n",
              "    <tr>\n",
              "      <th>24995</th>\n",
              "      <td>checking spoiler alert case. br br perhaps on...</td>\n",
              "      <td>0</td>\n",
              "    </tr>\n",
              "    <tr>\n",
              "      <th>24996</th>\n",
              "      <td>special effects good. br br script terrible n...</td>\n",
              "      <td>0</td>\n",
              "    </tr>\n",
              "    <tr>\n",
              "      <th>24997</th>\n",
              "      <td>this movie little poorly-made fetish porn say...</td>\n",
              "      <td>0</td>\n",
              "    </tr>\n",
              "    <tr>\n",
              "      <th>24998</th>\n",
              "      <td>not interesting teen whodunit saved turkey de...</td>\n",
              "      <td>0</td>\n",
              "    </tr>\n",
              "    <tr>\n",
              "      <th>24999</th>\n",
              "      <td>i done quite reviews imdb film unique i never...</td>\n",
              "      <td>0</td>\n",
              "    </tr>\n",
              "  </tbody>\n",
              "</table>\n",
              "<p>50000 rows × 2 columns</p>\n",
              "</div>\n",
              "      <button class=\"colab-df-convert\" onclick=\"convertToInteractive('df-fbdcfe48-3b9a-4848-9a1a-d75e0327c1c3')\"\n",
              "              title=\"Convert this dataframe to an interactive table.\"\n",
              "              style=\"display:none;\">\n",
              "        \n",
              "  <svg xmlns=\"http://www.w3.org/2000/svg\" height=\"24px\"viewBox=\"0 0 24 24\"\n",
              "       width=\"24px\">\n",
              "    <path d=\"M0 0h24v24H0V0z\" fill=\"none\"/>\n",
              "    <path d=\"M18.56 5.44l.94 2.06.94-2.06 2.06-.94-2.06-.94-.94-2.06-.94 2.06-2.06.94zm-11 1L8.5 8.5l.94-2.06 2.06-.94-2.06-.94L8.5 2.5l-.94 2.06-2.06.94zm10 10l.94 2.06.94-2.06 2.06-.94-2.06-.94-.94-2.06-.94 2.06-2.06.94z\"/><path d=\"M17.41 7.96l-1.37-1.37c-.4-.4-.92-.59-1.43-.59-.52 0-1.04.2-1.43.59L10.3 9.45l-7.72 7.72c-.78.78-.78 2.05 0 2.83L4 21.41c.39.39.9.59 1.41.59.51 0 1.02-.2 1.41-.59l7.78-7.78 2.81-2.81c.8-.78.8-2.07 0-2.86zM5.41 20L4 18.59l7.72-7.72 1.47 1.35L5.41 20z\"/>\n",
              "  </svg>\n",
              "      </button>\n",
              "      \n",
              "  <style>\n",
              "    .colab-df-container {\n",
              "      display:flex;\n",
              "      flex-wrap:wrap;\n",
              "      gap: 12px;\n",
              "    }\n",
              "\n",
              "    .colab-df-convert {\n",
              "      background-color: #E8F0FE;\n",
              "      border: none;\n",
              "      border-radius: 50%;\n",
              "      cursor: pointer;\n",
              "      display: none;\n",
              "      fill: #1967D2;\n",
              "      height: 32px;\n",
              "      padding: 0 0 0 0;\n",
              "      width: 32px;\n",
              "    }\n",
              "\n",
              "    .colab-df-convert:hover {\n",
              "      background-color: #E2EBFA;\n",
              "      box-shadow: 0px 1px 2px rgba(60, 64, 67, 0.3), 0px 1px 3px 1px rgba(60, 64, 67, 0.15);\n",
              "      fill: #174EA6;\n",
              "    }\n",
              "\n",
              "    [theme=dark] .colab-df-convert {\n",
              "      background-color: #3B4455;\n",
              "      fill: #D2E3FC;\n",
              "    }\n",
              "\n",
              "    [theme=dark] .colab-df-convert:hover {\n",
              "      background-color: #434B5C;\n",
              "      box-shadow: 0px 1px 3px 1px rgba(0, 0, 0, 0.15);\n",
              "      filter: drop-shadow(0px 1px 2px rgba(0, 0, 0, 0.3));\n",
              "      fill: #FFFFFF;\n",
              "    }\n",
              "  </style>\n",
              "\n",
              "      <script>\n",
              "        const buttonEl =\n",
              "          document.querySelector('#df-fbdcfe48-3b9a-4848-9a1a-d75e0327c1c3 button.colab-df-convert');\n",
              "        buttonEl.style.display =\n",
              "          google.colab.kernel.accessAllowed ? 'block' : 'none';\n",
              "\n",
              "        async function convertToInteractive(key) {\n",
              "          const element = document.querySelector('#df-fbdcfe48-3b9a-4848-9a1a-d75e0327c1c3');\n",
              "          const dataTable =\n",
              "            await google.colab.kernel.invokeFunction('convertToInteractive',\n",
              "                                                     [key], {});\n",
              "          if (!dataTable) return;\n",
              "\n",
              "          const docLinkHtml = 'Like what you see? Visit the ' +\n",
              "            '<a target=\"_blank\" href=https://colab.research.google.com/notebooks/data_table.ipynb>data table notebook</a>'\n",
              "            + ' to learn more about interactive tables.';\n",
              "          element.innerHTML = '';\n",
              "          dataTable['output_type'] = 'display_data';\n",
              "          await google.colab.output.renderOutput(dataTable, element);\n",
              "          const docLink = document.createElement('div');\n",
              "          docLink.innerHTML = docLinkHtml;\n",
              "          element.appendChild(docLink);\n",
              "        }\n",
              "      </script>\n",
              "    </div>\n",
              "  </div>\n",
              "  "
            ]
          },
          "metadata": {},
          "execution_count": 31
        }
      ]
    },
    {
      "cell_type": "code",
      "source": [
        "tfidf = TfidfVectorizer()"
      ],
      "metadata": {
        "id": "KPM4k6tr20ka"
      },
      "execution_count": null,
      "outputs": []
    },
    {
      "cell_type": "code",
      "source": [
        "X = data_for_train['text_clear']"
      ],
      "metadata": {
        "id": "vFDwXqeC296f"
      },
      "execution_count": null,
      "outputs": []
    },
    {
      "cell_type": "code",
      "source": [
        "y = data_for_train['label']"
      ],
      "metadata": {
        "id": "XWESJSSj3Tpb"
      },
      "execution_count": null,
      "outputs": []
    },
    {
      "cell_type": "code",
      "source": [
        "X_train, X_test, y_train, y_test = train_test_split(X, y, test_size=0.2, random_state = 42)"
      ],
      "metadata": {
        "id": "b6Aczo7j3ZEv"
      },
      "execution_count": null,
      "outputs": []
    },
    {
      "cell_type": "code",
      "source": [
        "X_train_tfidf = tfidf.fit_transform(X_train)"
      ],
      "metadata": {
        "id": "GmOAgjYy3jC8"
      },
      "execution_count": null,
      "outputs": []
    },
    {
      "cell_type": "code",
      "source": [
        "X_test_tfidf = tfidf.transform(X_test)"
      ],
      "metadata": {
        "id": "hbVODzpt3tWV"
      },
      "execution_count": null,
      "outputs": []
    },
    {
      "cell_type": "markdown",
      "source": [
        "## Biseline model"
      ],
      "metadata": {
        "id": "6FEwPF7P2Xho"
      }
    },
    {
      "cell_type": "markdown",
      "source": [
        "Логистическая регрессия - это статистическая модель, используемая для прогнозирования бинарного или категориального результата на основе набора предикторов (факторов). Она является одним из простых и популярных методов классификации и широко используется в машинном обучении.\n",
        "\n",
        "Описание модели:\n",
        "- Логистическая регрессия использует логистическую функцию (также известную как сигмоидная функция) для преобразования линейной комбинации предикторов в вероятность принадлежности к определенному классу.\n",
        "- Входные переменные (предикторы) могут быть числовыми или категориальными.\n",
        "- Логистическая регрессия стремится найти оптимальные веса (коэффициенты) для каждого предиктора, чтобы минимизировать ошибку модели и максимизировать вероятность правильной классификации.\n",
        "- Модель обучается с использованием метода максимального правдоподобия, который оценивает вероятность получения наблюдаемых данных с учетом параметров модели.\n",
        "- Обучение модели включает в себя оптимизацию функции потерь, такой как логарифмическая функция потерь (лог-лосс).\n",
        "- Вывод модели представляет собой вероятности принадлежности к каждому классу. Пороговое значение может быть выбрано для определения конечного классификационного решения.\n",
        "\n",
        "Преимущества логистической регрессии:\n",
        "- Простота и интерпретируемость модели.\n",
        "- Модель может работать с числовыми и категориальными предикторами.\n",
        "- Эффективное использование памяти и вычислительных ресурсов.\n",
        "- Хорошая производительность при задачах классификации с двумя классами или бинарных классов.\n",
        "\n",
        "Ограничения логистической регрессии:\n",
        "- Логистическая регрессия предполагает линейную зависимость между предикторами и логарифмом шансов.\n",
        "- Не способна моделировать сложные нелинейные взаимодействия между предикторами.\n",
        "- Может быть чувствительна к наличию выбросов и нарушениям предположений о нормальности ошибок.\n",
        "\n",
        "Логистическая регрессия широко используется в различных областях, включая медицину, финансы, маркетинг, анализ текстов и друг\n",
        "\n",
        "ие, где необходимо классифицировать данные и предсказывать вероятность принадлежности к определенному классу."
      ],
      "metadata": {
        "id": "z-ZWeNwx34LK"
      }
    },
    {
      "cell_type": "code",
      "source": [
        "from sklearn.linear_model import LogisticRegression\n",
        "from sklearn.metrics import classification_report\n",
        "from sklearn.model_selection import cross_val_score"
      ],
      "metadata": {
        "id": "VD-DQaki5oiA"
      },
      "execution_count": null,
      "outputs": []
    },
    {
      "cell_type": "code",
      "source": [
        "lr = LogisticRegression()"
      ],
      "metadata": {
        "id": "YvyqBrEE57rW"
      },
      "execution_count": null,
      "outputs": []
    },
    {
      "cell_type": "code",
      "source": [
        "lr.fit(X_train_tfidf, y_train)"
      ],
      "metadata": {
        "colab": {
          "base_uri": "https://localhost:8080/",
          "height": 213
        },
        "id": "_BAU9F4E5-70",
        "outputId": "547dd15f-18f1-49cf-f0e5-61595774fb71"
      },
      "execution_count": null,
      "outputs": [
        {
          "output_type": "stream",
          "name": "stderr",
          "text": [
            "/usr/local/lib/python3.10/dist-packages/sklearn/linear_model/_logistic.py:458: ConvergenceWarning: lbfgs failed to converge (status=1):\n",
            "STOP: TOTAL NO. of ITERATIONS REACHED LIMIT.\n",
            "\n",
            "Increase the number of iterations (max_iter) or scale the data as shown in:\n",
            "    https://scikit-learn.org/stable/modules/preprocessing.html\n",
            "Please also refer to the documentation for alternative solver options:\n",
            "    https://scikit-learn.org/stable/modules/linear_model.html#logistic-regression\n",
            "  n_iter_i = _check_optimize_result(\n"
          ]
        },
        {
          "output_type": "execute_result",
          "data": {
            "text/plain": [
              "LogisticRegression()"
            ],
            "text/html": [
              "<style>#sk-container-id-5 {color: black;background-color: white;}#sk-container-id-5 pre{padding: 0;}#sk-container-id-5 div.sk-toggleable {background-color: white;}#sk-container-id-5 label.sk-toggleable__label {cursor: pointer;display: block;width: 100%;margin-bottom: 0;padding: 0.3em;box-sizing: border-box;text-align: center;}#sk-container-id-5 label.sk-toggleable__label-arrow:before {content: \"▸\";float: left;margin-right: 0.25em;color: #696969;}#sk-container-id-5 label.sk-toggleable__label-arrow:hover:before {color: black;}#sk-container-id-5 div.sk-estimator:hover label.sk-toggleable__label-arrow:before {color: black;}#sk-container-id-5 div.sk-toggleable__content {max-height: 0;max-width: 0;overflow: hidden;text-align: left;background-color: #f0f8ff;}#sk-container-id-5 div.sk-toggleable__content pre {margin: 0.2em;color: black;border-radius: 0.25em;background-color: #f0f8ff;}#sk-container-id-5 input.sk-toggleable__control:checked~div.sk-toggleable__content {max-height: 200px;max-width: 100%;overflow: auto;}#sk-container-id-5 input.sk-toggleable__control:checked~label.sk-toggleable__label-arrow:before {content: \"▾\";}#sk-container-id-5 div.sk-estimator input.sk-toggleable__control:checked~label.sk-toggleable__label {background-color: #d4ebff;}#sk-container-id-5 div.sk-label input.sk-toggleable__control:checked~label.sk-toggleable__label {background-color: #d4ebff;}#sk-container-id-5 input.sk-hidden--visually {border: 0;clip: rect(1px 1px 1px 1px);clip: rect(1px, 1px, 1px, 1px);height: 1px;margin: -1px;overflow: hidden;padding: 0;position: absolute;width: 1px;}#sk-container-id-5 div.sk-estimator {font-family: monospace;background-color: #f0f8ff;border: 1px dotted black;border-radius: 0.25em;box-sizing: border-box;margin-bottom: 0.5em;}#sk-container-id-5 div.sk-estimator:hover {background-color: #d4ebff;}#sk-container-id-5 div.sk-parallel-item::after {content: \"\";width: 100%;border-bottom: 1px solid gray;flex-grow: 1;}#sk-container-id-5 div.sk-label:hover label.sk-toggleable__label {background-color: #d4ebff;}#sk-container-id-5 div.sk-serial::before {content: \"\";position: absolute;border-left: 1px solid gray;box-sizing: border-box;top: 0;bottom: 0;left: 50%;z-index: 0;}#sk-container-id-5 div.sk-serial {display: flex;flex-direction: column;align-items: center;background-color: white;padding-right: 0.2em;padding-left: 0.2em;position: relative;}#sk-container-id-5 div.sk-item {position: relative;z-index: 1;}#sk-container-id-5 div.sk-parallel {display: flex;align-items: stretch;justify-content: center;background-color: white;position: relative;}#sk-container-id-5 div.sk-item::before, #sk-container-id-5 div.sk-parallel-item::before {content: \"\";position: absolute;border-left: 1px solid gray;box-sizing: border-box;top: 0;bottom: 0;left: 50%;z-index: -1;}#sk-container-id-5 div.sk-parallel-item {display: flex;flex-direction: column;z-index: 1;position: relative;background-color: white;}#sk-container-id-5 div.sk-parallel-item:first-child::after {align-self: flex-end;width: 50%;}#sk-container-id-5 div.sk-parallel-item:last-child::after {align-self: flex-start;width: 50%;}#sk-container-id-5 div.sk-parallel-item:only-child::after {width: 0;}#sk-container-id-5 div.sk-dashed-wrapped {border: 1px dashed gray;margin: 0 0.4em 0.5em 0.4em;box-sizing: border-box;padding-bottom: 0.4em;background-color: white;}#sk-container-id-5 div.sk-label label {font-family: monospace;font-weight: bold;display: inline-block;line-height: 1.2em;}#sk-container-id-5 div.sk-label-container {text-align: center;}#sk-container-id-5 div.sk-container {/* jupyter's `normalize.less` sets `[hidden] { display: none; }` but bootstrap.min.css set `[hidden] { display: none !important; }` so we also need the `!important` here to be able to override the default hidden behavior on the sphinx rendered scikit-learn.org. See: https://github.com/scikit-learn/scikit-learn/issues/21755 */display: inline-block !important;position: relative;}#sk-container-id-5 div.sk-text-repr-fallback {display: none;}</style><div id=\"sk-container-id-5\" class=\"sk-top-container\"><div class=\"sk-text-repr-fallback\"><pre>LogisticRegression()</pre><b>In a Jupyter environment, please rerun this cell to show the HTML representation or trust the notebook. <br />On GitHub, the HTML representation is unable to render, please try loading this page with nbviewer.org.</b></div><div class=\"sk-container\" hidden><div class=\"sk-item\"><div class=\"sk-estimator sk-toggleable\"><input class=\"sk-toggleable__control sk-hidden--visually\" id=\"sk-estimator-id-5\" type=\"checkbox\" checked><label for=\"sk-estimator-id-5\" class=\"sk-toggleable__label sk-toggleable__label-arrow\">LogisticRegression</label><div class=\"sk-toggleable__content\"><pre>LogisticRegression()</pre></div></div></div></div></div>"
            ]
          },
          "metadata": {},
          "execution_count": 119
        }
      ]
    },
    {
      "cell_type": "code",
      "source": [
        "predictions = lr.predict(X_test_tfidf)"
      ],
      "metadata": {
        "id": "DvtVm6nw6Mdu"
      },
      "execution_count": null,
      "outputs": []
    },
    {
      "cell_type": "code",
      "source": [
        "lr_report = classification_report(y_test, predictions)\n"
      ],
      "metadata": {
        "id": "9QKdlyhf6cU0"
      },
      "execution_count": null,
      "outputs": []
    },
    {
      "cell_type": "code",
      "source": [
        "print(lr_report)"
      ],
      "metadata": {
        "colab": {
          "base_uri": "https://localhost:8080/"
        },
        "id": "wgzRuaipQah9",
        "outputId": "bdb38c41-13ff-44d8-a404-0681ee98c026"
      },
      "execution_count": null,
      "outputs": [
        {
          "output_type": "stream",
          "name": "stdout",
          "text": [
            "              precision    recall  f1-score   support\n",
            "\n",
            "           0       0.93      0.91      0.92      4945\n",
            "           1       0.92      0.93      0.92      5055\n",
            "\n",
            "    accuracy                           0.92     10000\n",
            "   macro avg       0.92      0.92      0.92     10000\n",
            "weighted avg       0.92      0.92      0.92     10000\n",
            "\n"
          ]
        }
      ]
    },
    {
      "cell_type": "markdown",
      "source": [
        "Логистическая регрессия показала довольно хорошие метрики. Проверим как она работает на произвольном тексте"
      ],
      "metadata": {
        "id": "3z3fgKIrKGFg"
      }
    },
    {
      "cell_type": "code",
      "source": [
        "text_neg = \"It's a very bad movie, I hate the actors who play there. I didn't like that movie\""
      ],
      "metadata": {
        "id": "G1eSOf0mKSPr"
      },
      "execution_count": null,
      "outputs": []
    },
    {
      "cell_type": "code",
      "source": [
        "text_pos = \"It's a very good movie, I love the actors who play there. I like that movie\""
      ],
      "metadata": {
        "id": "ZLT_iyBhKeF4"
      },
      "execution_count": null,
      "outputs": []
    },
    {
      "cell_type": "code",
      "source": [
        "def class_text(text, model):\n",
        "    if model.predict(tfidf.transform([pre_process(text)]))[0] == 0:\n",
        "      res = \"негативный класс\"\n",
        "    else:\n",
        "      res = \"позитивный класс\"\n",
        "    print(res)"
      ],
      "metadata": {
        "id": "AwV35eSlKsza"
      },
      "execution_count": null,
      "outputs": []
    },
    {
      "cell_type": "code",
      "source": [
        "class_text(text_pos, lr)"
      ],
      "metadata": {
        "colab": {
          "base_uri": "https://localhost:8080/"
        },
        "id": "rQtQk_gHLwHt",
        "outputId": "232771c3-ddcc-4abc-d2f4-d88db5f404e2"
      },
      "execution_count": null,
      "outputs": [
        {
          "output_type": "stream",
          "name": "stdout",
          "text": [
            "позитивный класс\n"
          ]
        }
      ]
    },
    {
      "cell_type": "code",
      "source": [
        "class_text(text_neg, lr)"
      ],
      "metadata": {
        "colab": {
          "base_uri": "https://localhost:8080/"
        },
        "id": "NWF72mnXMn1l",
        "outputId": "8e860216-9647-49d2-956c-0e1d9836a581"
      },
      "execution_count": null,
      "outputs": [
        {
          "output_type": "stream",
          "name": "stdout",
          "text": [
            "негативный класс\n"
          ]
        }
      ]
    },
    {
      "cell_type": "markdown",
      "source": [
        "Модель предсказывает достаточно, проверим качество на кросс-валидации"
      ],
      "metadata": {
        "id": "z0xa3PtRMw6q"
      }
    },
    {
      "cell_type": "code",
      "source": [
        "cv_scores = cross_val_score(lr, X_train_tfidf, y_train, cv=10,scoring= 'f1')"
      ],
      "metadata": {
        "id": "rLY8J78OMvFv"
      },
      "execution_count": null,
      "outputs": []
    },
    {
      "cell_type": "code",
      "source": [
        "print(f'cross_val_score F1: {cv_scores}',f'cross_val_score F1 mean: {round(cv_scores.mean(),2)}', sep = '\\n')"
      ],
      "metadata": {
        "colab": {
          "base_uri": "https://localhost:8080/"
        },
        "id": "wY2-SspVN2cl",
        "outputId": "716a4ec2-8d88-46d4-a3a9-97c9ddb07686"
      },
      "execution_count": null,
      "outputs": [
        {
          "output_type": "stream",
          "name": "stdout",
          "text": [
            "cross_val_score F1: [0.92445774 0.91606833 0.92669772 0.92670683 0.91971166 0.92123629\n",
            " 0.91516201 0.92216457 0.92724112 0.92346048]\n",
            "cross_val_score F1 mean: 0.92\n"
          ]
        }
      ]
    },
    {
      "cell_type": "markdown",
      "source": [
        "Попробуем использовать более сложную модель для классификации"
      ],
      "metadata": {
        "id": "mkYHDe4XOXH6"
      }
    },
    {
      "cell_type": "markdown",
      "source": [
        "##Random Forest Classifier"
      ],
      "metadata": {
        "id": "SVZhp22qOfND"
      }
    },
    {
      "cell_type": "markdown",
      "source": [
        "**Random Forest Classifier** (Случайный лес) - это алгоритм машинного обучения, используемый для решения задач классификации, основанный на идее ансамбля деревьев решений. Он создает несколько деревьев решений во время обучения и комбинирует их предсказания для получения более стабильных и точных результатов.\n",
        "\n",
        "Основные характеристики и принцип работы Random Forest Classifier:\n",
        "\n",
        "1. Ансамбль деревьев: Random Forest создает множество деревьев решений, независимо друг от друга, используя различные подмножества обучающих данных и признаков. Каждое дерево предсказывает класс, и затем голосование или усреднение используется для принятия окончательного решения.\n",
        "\n",
        "2. Случайность: Для уменьшения корреляции между деревьями в лесу, Random Forest использует случайный подбор подмножества обучающих данных (bootstrap) и случайный подбор признаков на каждом узле дерева.\n",
        "\n",
        "3. Бэггинг: Random Forest использует метод бэггинга (Bootstrap Aggregating) для построения деревьев. Это означает, что каждое дерево обучается на случайной выборке с возвращением из обучающего набора данных.\n",
        "\n",
        "4. Важность признаков: Random Forest может вычислять важность каждого признака на основе того, насколько хорошо этот признак разделяет классы в деревьях. Эта информация может быть полезна для понимания важности каждого признака в задаче классификации.\n",
        "\n",
        "Преимущества Random Forest Classifier:\n",
        "\n",
        "- Высокая точность: Random Forest обычно показывает хорошую производительность на разнообразных задачах классификации.\n",
        "- Устойчивость к переобучению: Благодаря случайности и бэггингу, Random Forest обладает хорошей устойчивостью к переобучению на обучающих данных.\n",
        "- Поддержка большого числа признаков и данных: Может обрабатывать множество признаков и большие объемы данных.\n",
        "- Может обрабатывать как числовые, так и категориальные признаки без необходимости их предварительной обработки.\n",
        "\n",
        "Ограничения Random Forest Classifier:\n",
        "\n",
        "- Склонен к возникновению переобучения при использовании слишком сложных деревьев или недостаточном количестве деревьев.\n",
        "- Может быть вычислительно затратным при большом количестве деревьев и признаков.\n",
        "\n",
        "Random Forest Classifier является мощным инструментом для классификации, широко применяемым в различных областях, включая медицину, финансы, маркетинг и т.д."
      ],
      "metadata": {
        "id": "vowWl06GO1dR"
      }
    },
    {
      "cell_type": "code",
      "source": [
        "from sklearn.ensemble import RandomForestClassifier\n",
        "from sklearn.metrics import roc_curve, auc\n",
        "from sklearn.metrics import roc_auc_score"
      ],
      "metadata": {
        "id": "yNwtSCcDOeDa"
      },
      "execution_count": null,
      "outputs": []
    },
    {
      "cell_type": "code",
      "source": [
        "rfc = RandomForestClassifier(random_state=1)"
      ],
      "metadata": {
        "id": "7uno8bp6QrnV"
      },
      "execution_count": null,
      "outputs": []
    },
    {
      "cell_type": "code",
      "source": [
        "rfc.fit(X_train_tfidf, y_train)"
      ],
      "metadata": {
        "colab": {
          "base_uri": "https://localhost:8080/",
          "height": 74
        },
        "id": "nDi6ooogQxyP",
        "outputId": "a32f5013-b370-42ee-f6a9-68838ac41e19"
      },
      "execution_count": null,
      "outputs": [
        {
          "output_type": "execute_result",
          "data": {
            "text/plain": [
              "RandomForestClassifier(random_state=1)"
            ],
            "text/html": [
              "<style>#sk-container-id-3 {color: black;background-color: white;}#sk-container-id-3 pre{padding: 0;}#sk-container-id-3 div.sk-toggleable {background-color: white;}#sk-container-id-3 label.sk-toggleable__label {cursor: pointer;display: block;width: 100%;margin-bottom: 0;padding: 0.3em;box-sizing: border-box;text-align: center;}#sk-container-id-3 label.sk-toggleable__label-arrow:before {content: \"▸\";float: left;margin-right: 0.25em;color: #696969;}#sk-container-id-3 label.sk-toggleable__label-arrow:hover:before {color: black;}#sk-container-id-3 div.sk-estimator:hover label.sk-toggleable__label-arrow:before {color: black;}#sk-container-id-3 div.sk-toggleable__content {max-height: 0;max-width: 0;overflow: hidden;text-align: left;background-color: #f0f8ff;}#sk-container-id-3 div.sk-toggleable__content pre {margin: 0.2em;color: black;border-radius: 0.25em;background-color: #f0f8ff;}#sk-container-id-3 input.sk-toggleable__control:checked~div.sk-toggleable__content {max-height: 200px;max-width: 100%;overflow: auto;}#sk-container-id-3 input.sk-toggleable__control:checked~label.sk-toggleable__label-arrow:before {content: \"▾\";}#sk-container-id-3 div.sk-estimator input.sk-toggleable__control:checked~label.sk-toggleable__label {background-color: #d4ebff;}#sk-container-id-3 div.sk-label input.sk-toggleable__control:checked~label.sk-toggleable__label {background-color: #d4ebff;}#sk-container-id-3 input.sk-hidden--visually {border: 0;clip: rect(1px 1px 1px 1px);clip: rect(1px, 1px, 1px, 1px);height: 1px;margin: -1px;overflow: hidden;padding: 0;position: absolute;width: 1px;}#sk-container-id-3 div.sk-estimator {font-family: monospace;background-color: #f0f8ff;border: 1px dotted black;border-radius: 0.25em;box-sizing: border-box;margin-bottom: 0.5em;}#sk-container-id-3 div.sk-estimator:hover {background-color: #d4ebff;}#sk-container-id-3 div.sk-parallel-item::after {content: \"\";width: 100%;border-bottom: 1px solid gray;flex-grow: 1;}#sk-container-id-3 div.sk-label:hover label.sk-toggleable__label {background-color: #d4ebff;}#sk-container-id-3 div.sk-serial::before {content: \"\";position: absolute;border-left: 1px solid gray;box-sizing: border-box;top: 0;bottom: 0;left: 50%;z-index: 0;}#sk-container-id-3 div.sk-serial {display: flex;flex-direction: column;align-items: center;background-color: white;padding-right: 0.2em;padding-left: 0.2em;position: relative;}#sk-container-id-3 div.sk-item {position: relative;z-index: 1;}#sk-container-id-3 div.sk-parallel {display: flex;align-items: stretch;justify-content: center;background-color: white;position: relative;}#sk-container-id-3 div.sk-item::before, #sk-container-id-3 div.sk-parallel-item::before {content: \"\";position: absolute;border-left: 1px solid gray;box-sizing: border-box;top: 0;bottom: 0;left: 50%;z-index: -1;}#sk-container-id-3 div.sk-parallel-item {display: flex;flex-direction: column;z-index: 1;position: relative;background-color: white;}#sk-container-id-3 div.sk-parallel-item:first-child::after {align-self: flex-end;width: 50%;}#sk-container-id-3 div.sk-parallel-item:last-child::after {align-self: flex-start;width: 50%;}#sk-container-id-3 div.sk-parallel-item:only-child::after {width: 0;}#sk-container-id-3 div.sk-dashed-wrapped {border: 1px dashed gray;margin: 0 0.4em 0.5em 0.4em;box-sizing: border-box;padding-bottom: 0.4em;background-color: white;}#sk-container-id-3 div.sk-label label {font-family: monospace;font-weight: bold;display: inline-block;line-height: 1.2em;}#sk-container-id-3 div.sk-label-container {text-align: center;}#sk-container-id-3 div.sk-container {/* jupyter's `normalize.less` sets `[hidden] { display: none; }` but bootstrap.min.css set `[hidden] { display: none !important; }` so we also need the `!important` here to be able to override the default hidden behavior on the sphinx rendered scikit-learn.org. See: https://github.com/scikit-learn/scikit-learn/issues/21755 */display: inline-block !important;position: relative;}#sk-container-id-3 div.sk-text-repr-fallback {display: none;}</style><div id=\"sk-container-id-3\" class=\"sk-top-container\"><div class=\"sk-text-repr-fallback\"><pre>RandomForestClassifier(random_state=1)</pre><b>In a Jupyter environment, please rerun this cell to show the HTML representation or trust the notebook. <br />On GitHub, the HTML representation is unable to render, please try loading this page with nbviewer.org.</b></div><div class=\"sk-container\" hidden><div class=\"sk-item\"><div class=\"sk-estimator sk-toggleable\"><input class=\"sk-toggleable__control sk-hidden--visually\" id=\"sk-estimator-id-3\" type=\"checkbox\" checked><label for=\"sk-estimator-id-3\" class=\"sk-toggleable__label sk-toggleable__label-arrow\">RandomForestClassifier</label><div class=\"sk-toggleable__content\"><pre>RandomForestClassifier(random_state=1)</pre></div></div></div></div></div>"
            ]
          },
          "metadata": {},
          "execution_count": 55
        }
      ]
    },
    {
      "cell_type": "code",
      "source": [
        "pred_rfc = rfc.predict(X_test_tfidf)"
      ],
      "metadata": {
        "id": "Z1xrowneQ3Ml"
      },
      "execution_count": null,
      "outputs": []
    },
    {
      "cell_type": "code",
      "source": [
        "rfc_report = classification_report(y_test, pred_rfc)"
      ],
      "metadata": {
        "id": "SlLfngEIRKK4"
      },
      "execution_count": null,
      "outputs": []
    },
    {
      "cell_type": "code",
      "source": [
        "print(rfc_report)"
      ],
      "metadata": {
        "colab": {
          "base_uri": "https://localhost:8080/"
        },
        "id": "ye55gvIpRS-f",
        "outputId": "7ee7ce5e-6b1a-4709-b230-8c6b482a457d"
      },
      "execution_count": null,
      "outputs": [
        {
          "output_type": "stream",
          "name": "stdout",
          "text": [
            "              precision    recall  f1-score   support\n",
            "\n",
            "           0       0.97      0.97      0.97      4945\n",
            "           1       0.97      0.97      0.97      5055\n",
            "\n",
            "    accuracy                           0.97     10000\n",
            "   macro avg       0.97      0.97      0.97     10000\n",
            "weighted avg       0.97      0.97      0.97     10000\n",
            "\n"
          ]
        }
      ]
    },
    {
      "cell_type": "code",
      "source": [
        "class_text(text_pos, rfc)"
      ],
      "metadata": {
        "colab": {
          "base_uri": "https://localhost:8080/"
        },
        "id": "PhZ6uudDw44u",
        "outputId": "1146442b-4b73-4c41-fe8d-55bdbfa1bba0"
      },
      "execution_count": null,
      "outputs": [
        {
          "output_type": "stream",
          "name": "stdout",
          "text": [
            "позитивный класс\n"
          ]
        }
      ]
    },
    {
      "cell_type": "code",
      "source": [
        "class_text(text_neg, rfc)"
      ],
      "metadata": {
        "colab": {
          "base_uri": "https://localhost:8080/"
        },
        "id": "lPJrhetcxKGR",
        "outputId": "1e1b82ec-8066-4604-bfd5-5dbf415d927f"
      },
      "execution_count": null,
      "outputs": [
        {
          "output_type": "stream",
          "name": "stdout",
          "text": [
            "позитивный класс\n"
          ]
        }
      ]
    },
    {
      "cell_type": "markdown",
      "source": [
        "На данном примере модель не верно определила негативный класс, возможно проблема в размере отзыва, в нем мало слов"
      ],
      "metadata": {
        "id": "CfhQdW2EyJbC"
      }
    },
    {
      "cell_type": "markdown",
      "source": [
        "Построим график ROC кривой"
      ],
      "metadata": {
        "id": "xA1Ev2_ESskZ"
      }
    },
    {
      "cell_type": "code",
      "source": [
        "rfc_probs = rfc.predict_proba(X_test_tfidf)"
      ],
      "metadata": {
        "id": "HxRwPeQ4RVmL"
      },
      "execution_count": null,
      "outputs": []
    },
    {
      "cell_type": "code",
      "source": [
        "rfc_probs = rfc_probs[:, 1]"
      ],
      "metadata": {
        "id": "PG_jxd3rTGKz"
      },
      "execution_count": null,
      "outputs": []
    },
    {
      "cell_type": "code",
      "source": [
        "rfc_auc = roc_auc_score(y_test, rfc_probs)\n",
        "print('RandomForestClassifier: ROC AUC=%.3f' % (rfc_auc))"
      ],
      "metadata": {
        "colab": {
          "base_uri": "https://localhost:8080/"
        },
        "id": "Wvy5Y-VuTkOY",
        "outputId": "709183d6-4d14-4f55-9188-3fdaf4a68edb"
      },
      "execution_count": null,
      "outputs": [
        {
          "output_type": "stream",
          "name": "stdout",
          "text": [
            "RandomForestClassifier: ROC AUC=0.996\n"
          ]
        }
      ]
    },
    {
      "cell_type": "code",
      "source": [
        "fpr, tpr, treshold = roc_curve(y_test, rfc_probs)\n",
        "roc_auc = auc(fpr, tpr)"
      ],
      "metadata": {
        "id": "Wvpe1w7aTKxn"
      },
      "execution_count": null,
      "outputs": []
    },
    {
      "cell_type": "code",
      "source": [
        "# строим график\n",
        "plt.plot(fpr, tpr, color='darkorange',\n",
        "         label='ROC кривая (area = %0.2f)' % roc_auc)\n",
        "plt.plot([0, 1], [0, 1], color='navy', linestyle='--')\n",
        "plt.xlim([0.0, 1.0])\n",
        "plt.ylim([0.0, 1.05])\n",
        "plt.xlabel('False Positive Rate')\n",
        "plt.ylabel('True Positive Rate')\n",
        "plt.title('ROC-кривая RandomForestClassifier')\n",
        "plt.legend(loc=\"lower right\")\n",
        "plt.show()"
      ],
      "metadata": {
        "colab": {
          "base_uri": "https://localhost:8080/",
          "height": 472
        },
        "id": "ocI0epjxT5MP",
        "outputId": "2d0afa38-01d9-4bbc-ecf7-e4c03e2e34af"
      },
      "execution_count": null,
      "outputs": [
        {
          "output_type": "display_data",
          "data": {
            "text/plain": [
              "<Figure size 640x480 with 1 Axes>"
            ],
            "image/png": "[encoded data removed]"
          },
          "metadata": {}
        }
      ]
    },
    {
      "cell_type": "markdown",
      "source": [
        "Судя по графику и метрикам, модель паказала гораздо лучшие результаты, попробуем оптимизировать гиперпараметры модели"
      ],
      "metadata": {
        "id": "-5gH9f4uUKSQ"
      }
    },
    {
      "cell_type": "markdown",
      "source": [
        "### Оптимизация гиперпараметров RandomForestClassifier"
      ],
      "metadata": {
        "id": "RaBX6Pj-UY24"
      }
    },
    {
      "cell_type": "markdown",
      "source": [
        "**Optuna** - это библиотека оптимизации гиперпараметров для машинного обучения. Она предоставляет простой и гибкий интерфейс для автоматизации поиска оптимальных значений гиперпараметров модели.\n",
        "\n",
        "Основные особенности библиотеки Optuna:\n",
        "\n",
        "1. Поиск гиперпараметров: Optuna предоставляет различные алгоритмы оптимизации, такие как алгоритмы последовательной моделировании и алгоритмы оптимизации на основе дерева. Она может автоматически настраивать гиперпараметры модели для достижения наилучшего качества модели.\n",
        "\n",
        "2. Интеграция с различными фреймворками: Optuna может интегрироваться с различными фреймворками машинного обучения, такими как TensorFlow, PyTorch, XGBoost, LightGBM и другими. Это позволяет использовать Optuna для оптимизации гиперпараметров моделей, созданных с использованием этих фреймворков.\n",
        "\n",
        "3. Параллельное выполнение: Optuna поддерживает параллельное выполнение, что позволяет распределить процесс оптимизации на несколько процессоров или компьютеров. Это позволяет ускорить процесс оптимизации, особенно при работе с большими наборами данных или сложными моделями.\n",
        "\n",
        "4. Интеграция с визуализацией: Optuna предоставляет инструменты для визуализации процесса оптимизации. Она может отображать графики с историей значений гиперпараметров и метрик модели, что помогает в понимании процесса оптимизации и принятии решений.\n",
        "\n",
        "5. Гибкость и настраиваемость: Optuna предоставляет гибкий и настраиваемый интерфейс для оптимизации гиперпараметров. Вы можете определить свои собственные критерии останова, метрики для оптимизации и правила выбора следующего значения гиперпараметра.\n",
        "\n",
        "Использование Optuna позволяет автоматизировать и улучшить процесс оптимизации гиперпараметров моделей машинного обучения, что помогает достичь лучшей производительности и результатов модели."
      ],
      "metadata": {
        "id": "d920R5vxfgCr"
      }
    },
    {
      "cell_type": "code",
      "source": [
        "!pip install optuna"
      ],
      "metadata": {
        "colab": {
          "base_uri": "https://localhost:8080/"
        },
        "id": "8HPXhAMyUU__",
        "outputId": "bd553237-2b7b-4b09-9f4c-cf4ab1777af0"
      },
      "execution_count": null,
      "outputs": [
        {
          "output_type": "stream",
          "name": "stdout",
          "text": [
            "Collecting optuna\n",
            "  Downloading optuna-3.2.0-py3-none-any.whl (390 kB)\n",
            "\u001b[2K     \u001b[90m━━━━━━━━━━━━━━━━━━━━━━━━━━━━━━━━━━━━━━━\u001b[0m \u001b[32m390.6/390.6 kB\u001b[0m \u001b[31m7.2 MB/s\u001b[0m eta \u001b[36m0:00:00\u001b[0m\n",
            "\u001b[?25hCollecting alembic>=1.5.0 (from optuna)\n",
            "  Downloading alembic-1.11.1-py3-none-any.whl (224 kB)\n",
            "\u001b[2K     \u001b[90m━━━━━━━━━━━━━━━━━━━━━━━━━━━━━━━━━━━━━━\u001b[0m \u001b[32m224.5/224.5 kB\u001b[0m \u001b[31m18.4 MB/s\u001b[0m eta \u001b[36m0:00:00\u001b[0m\n",
            "\u001b[?25hCollecting cmaes>=0.9.1 (from optuna)\n",
            "  Downloading cmaes-0.9.1-py3-none-any.whl (21 kB)\n",
            "Collecting colorlog (from optuna)\n",
            "  Downloading colorlog-6.7.0-py2.py3-none-any.whl (11 kB)\n",
            "Requirement already satisfied: numpy in /usr/local/lib/python3.10/dist-packages (from optuna) (1.22.4)\n",
            "Requirement already satisfied: packaging>=20.0 in /usr/local/lib/python3.10/dist-packages (from optuna) (23.1)\n",
            "Requirement already satisfied: sqlalchemy>=1.3.0 in /usr/local/lib/python3.10/dist-packages (from optuna) (2.0.16)\n",
            "Requirement already satisfied: tqdm in /usr/local/lib/python3.10/dist-packages (from optuna) (4.65.0)\n",
            "Requirement already satisfied: PyYAML in /usr/local/lib/python3.10/dist-packages (from optuna) (6.0)\n",
            "Collecting Mako (from alembic>=1.5.0->optuna)\n",
            "  Downloading Mako-1.2.4-py3-none-any.whl (78 kB)\n",
            "\u001b[2K     \u001b[90m━━━━━━━━━━━━━━━━━━━━━━━━━━━━━━━━━━━━━━━━\u001b[0m \u001b[32m78.7/78.7 kB\u001b[0m \u001b[31m7.5 MB/s\u001b[0m eta \u001b[36m0:00:00\u001b[0m\n",
            "\u001b[?25hRequirement already satisfied: typing-extensions>=4 in /usr/local/lib/python3.10/dist-packages (from alembic>=1.5.0->optuna) (4.6.3)\n",
            "Requirement already satisfied: greenlet!=0.4.17 in /usr/local/lib/python3.10/dist-packages (from sqlalchemy>=1.3.0->optuna) (2.0.2)\n",
            "Requirement already satisfied: MarkupSafe>=0.9.2 in /usr/local/lib/python3.10/dist-packages (from Mako->alembic>=1.5.0->optuna) (2.1.3)\n",
            "Installing collected packages: Mako, colorlog, cmaes, alembic, optuna\n",
            "Successfully installed Mako-1.2.4 alembic-1.11.1 cmaes-0.9.1 colorlog-6.7.0 optuna-3.2.0\n"
          ]
        }
      ]
    },
    {
      "cell_type": "code",
      "source": [
        "import optuna\n",
        "from sklearn.metrics import f1_score"
      ],
      "metadata": {
        "id": "Ygc35I7RU2yR"
      },
      "execution_count": null,
      "outputs": []
    },
    {
      "cell_type": "code",
      "source": [
        "def objective(trial):\n",
        "    params = {\n",
        "        'n_estimators': trial.suggest_int('n_estimators', 100, 1000),\n",
        "        'max_depth': trial.suggest_categorical('max_depth', [3, 4, 5, 6, 7]),\n",
        "        'min_samples_split': trial.suggest_int('min_samples_split', 1, 50),\n",
        "        'min_samples_leaf': trial.suggest_int('min_samples_leaf', 1, 50),\n",
        "        'random_state': 1\n",
        "    }\n",
        "\n",
        "    model = RandomForestClassifier()\n",
        "    model.fit(X_train_tfidf, y_train)\n",
        "    predictions = model.predict(X_test_tfidf)\n",
        "    return f1_score(y_test, predictions)"
      ],
      "metadata": {
        "id": "h29mH_p8U4IV"
      },
      "execution_count": null,
      "outputs": []
    },
    {
      "cell_type": "code",
      "source": [
        "study = optuna.create_study(direction=\"maximize\")\n",
        "study.optimize(objective, n_trials=50)"
      ],
      "metadata": {
        "colab": {
          "base_uri": "https://localhost:8080/"
        },
        "id": "_MGlnC_fVq2y",
        "outputId": "46a4cc2d-f42b-4194-cb55-ba9ace030826"
      },
      "execution_count": null,
      "outputs": [
        {
          "output_type": "stream",
          "name": "stderr",
          "text": [
            "[I 2023-07-01 12:04:27,516] A new study created in memory with name: no-name-4bca0fa4-d24c-45e7-9f78-366995d47a63\n",
            "[I 2023-07-01 12:07:09,013] Trial 0 finished with value: 0.9709715639810427 and parameters: {'n_estimators': 133, 'max_depth': 7, 'min_samples_split': 45, 'min_samples_leaf': 28}. Best is trial 0 with value: 0.9709715639810427.\n",
            "[I 2023-07-01 12:09:53,563] Trial 1 finished with value: 0.9678627760252366 and parameters: {'n_estimators': 999, 'max_depth': 3, 'min_samples_split': 10, 'min_samples_leaf': 19}. Best is trial 0 with value: 0.9709715639810427.\n",
            "[I 2023-07-01 12:12:35,298] Trial 2 finished with value: 0.9688301440126258 and parameters: {'n_estimators': 344, 'max_depth': 4, 'min_samples_split': 19, 'min_samples_leaf': 38}. Best is trial 0 with value: 0.9709715639810427.\n",
            "[I 2023-07-01 12:15:14,478] Trial 3 finished with value: 0.969033530571992 and parameters: {'n_estimators': 610, 'max_depth': 4, 'min_samples_split': 6, 'min_samples_leaf': 38}. Best is trial 0 with value: 0.9709715639810427.\n",
            "[I 2023-07-01 12:17:46,837] Trial 4 finished with value: 0.9713778128701146 and parameters: {'n_estimators': 445, 'max_depth': 5, 'min_samples_split': 28, 'min_samples_leaf': 47}. Best is trial 4 with value: 0.9713778128701146.\n",
            "[I 2023-07-01 12:20:24,513] Trial 5 finished with value: 0.9687561795530947 and parameters: {'n_estimators': 189, 'max_depth': 4, 'min_samples_split': 40, 'min_samples_leaf': 30}. Best is trial 4 with value: 0.9713778128701146.\n",
            "[I 2023-07-01 12:22:57,225] Trial 6 finished with value: 0.9675324675324675 and parameters: {'n_estimators': 694, 'max_depth': 4, 'min_samples_split': 47, 'min_samples_leaf': 16}. Best is trial 4 with value: 0.9713778128701146.\n",
            "[I 2023-07-01 12:25:29,751] Trial 7 finished with value: 0.9695592014232062 and parameters: {'n_estimators': 760, 'max_depth': 5, 'min_samples_split': 1, 'min_samples_leaf': 16}. Best is trial 4 with value: 0.9713778128701146.\n",
            "[I 2023-07-01 12:28:01,591] Trial 8 finished with value: 0.9714116719242902 and parameters: {'n_estimators': 305, 'max_depth': 7, 'min_samples_split': 19, 'min_samples_leaf': 22}. Best is trial 8 with value: 0.9714116719242902.\n",
            "[I 2023-07-01 12:30:47,231] Trial 9 finished with value: 0.9707798617966436 and parameters: {'n_estimators': 895, 'max_depth': 4, 'min_samples_split': 41, 'min_samples_leaf': 15}. Best is trial 8 with value: 0.9714116719242902.\n",
            "[I 2023-07-01 12:33:23,650] Trial 10 finished with value: 0.9682195025661271 and parameters: {'n_estimators': 321, 'max_depth': 7, 'min_samples_split': 24, 'min_samples_leaf': 3}. Best is trial 8 with value: 0.9714116719242902.\n",
            "[I 2023-07-01 12:35:58,400] Trial 11 finished with value: 0.9684729064039409 and parameters: {'n_estimators': 421, 'max_depth': 5, 'min_samples_split': 32, 'min_samples_leaf': 4}. Best is trial 8 with value: 0.9714116719242902.\n",
            "[I 2023-07-01 12:38:33,127] Trial 12 finished with value: 0.969176052163604 and parameters: {'n_estimators': 487, 'max_depth': 6, 'min_samples_split': 16, 'min_samples_leaf': 48}. Best is trial 8 with value: 0.9714116719242902.\n",
            "[I 2023-07-01 12:41:07,050] Trial 13 finished with value: 0.971547125074096 and parameters: {'n_estimators': 257, 'max_depth': 5, 'min_samples_split': 30, 'min_samples_leaf': 49}. Best is trial 13 with value: 0.971547125074096.\n",
            "[I 2023-07-01 12:43:37,943] Trial 14 finished with value: 0.9683981828955165 and parameters: {'n_estimators': 247, 'max_depth': 7, 'min_samples_split': 34, 'min_samples_leaf': 35}. Best is trial 13 with value: 0.971547125074096.\n",
            "[I 2023-07-01 12:46:13,057] Trial 15 finished with value: 0.9666403474141335 and parameters: {'n_estimators': 108, 'max_depth': 6, 'min_samples_split': 20, 'min_samples_leaf': 24}. Best is trial 13 with value: 0.971547125074096.\n",
            "[I 2023-07-01 12:48:46,412] Trial 16 finished with value: 0.9688424373890752 and parameters: {'n_estimators': 275, 'max_depth': 3, 'min_samples_split': 12, 'min_samples_leaf': 10}. Best is trial 13 with value: 0.971547125074096.\n",
            "[I 2023-07-01 12:51:20,570] Trial 17 finished with value: 0.9677865612648222 and parameters: {'n_estimators': 576, 'max_depth': 5, 'min_samples_split': 24, 'min_samples_leaf': 44}. Best is trial 13 with value: 0.971547125074096.\n",
            "[I 2023-07-01 12:53:48,374] Trial 18 finished with value: 0.9676592388089135 and parameters: {'n_estimators': 375, 'max_depth': 7, 'min_samples_split': 33, 'min_samples_leaf': 24}. Best is trial 13 with value: 0.971547125074096.\n",
            "[I 2023-07-01 12:56:21,306] Trial 19 finished with value: 0.9716032340761191 and parameters: {'n_estimators': 217, 'max_depth': 5, 'min_samples_split': 29, 'min_samples_leaf': 32}. Best is trial 19 with value: 0.9716032340761191.\n",
            "[I 2023-07-01 12:58:51,856] Trial 20 finished with value: 0.9685894903200317 and parameters: {'n_estimators': 184, 'max_depth': 5, 'min_samples_split': 38, 'min_samples_leaf': 32}. Best is trial 19 with value: 0.9716032340761191.\n",
            "[I 2023-07-01 13:01:23,835] Trial 21 finished with value: 0.9706346078044935 and parameters: {'n_estimators': 266, 'max_depth': 5, 'min_samples_split': 29, 'min_samples_leaf': 43}. Best is trial 19 with value: 0.9716032340761191.\n",
            "[I 2023-07-01 13:03:58,527] Trial 22 finished with value: 0.9708489265314162 and parameters: {'n_estimators': 201, 'max_depth': 5, 'min_samples_split': 21, 'min_samples_leaf': 21}. Best is trial 19 with value: 0.9716032340761191.\n",
            "[I 2023-07-01 13:06:29,874] Trial 23 finished with value: 0.969033530571992 and parameters: {'n_estimators': 499, 'max_depth': 7, 'min_samples_split': 28, 'min_samples_leaf': 40}. Best is trial 19 with value: 0.9716032340761191.\n",
            "[I 2023-07-01 13:09:05,975] Trial 24 finished with value: 0.9680157946692991 and parameters: {'n_estimators': 358, 'max_depth': 5, 'min_samples_split': 16, 'min_samples_leaf': 32}. Best is trial 19 with value: 0.9716032340761191.\n",
            "[I 2023-07-01 13:11:44,065] Trial 25 finished with value: 0.9702052091554855 and parameters: {'n_estimators': 296, 'max_depth': 3, 'min_samples_split': 35, 'min_samples_leaf': 10}. Best is trial 19 with value: 0.9716032340761191.\n",
            "[I 2023-07-01 13:14:14,072] Trial 26 finished with value: 0.9707336365434052 and parameters: {'n_estimators': 110, 'max_depth': 6, 'min_samples_split': 24, 'min_samples_leaf': 27}. Best is trial 19 with value: 0.9716032340761191.\n",
            "[I 2023-07-01 13:16:41,480] Trial 27 finished with value: 0.9696192542907872 and parameters: {'n_estimators': 234, 'max_depth': 7, 'min_samples_split': 16, 'min_samples_leaf': 50}. Best is trial 19 with value: 0.9716032340761191.\n",
            "[I 2023-07-01 13:19:14,318] Trial 28 finished with value: 0.97036158861885 and parameters: {'n_estimators': 410, 'max_depth': 5, 'min_samples_split': 50, 'min_samples_leaf': 35}. Best is trial 19 with value: 0.9716032340761191.\n",
            "[I 2023-07-01 13:21:44,127] Trial 29 finished with value: 0.9707567674372654 and parameters: {'n_estimators': 181, 'max_depth': 7, 'min_samples_split': 29, 'min_samples_leaf': 28}. Best is trial 19 with value: 0.9716032340761191.\n",
            "[I 2023-07-01 13:24:16,054] Trial 30 finished with value: 0.9687561795530947 and parameters: {'n_estimators': 156, 'max_depth': 5, 'min_samples_split': 11, 'min_samples_leaf': 21}. Best is trial 19 with value: 0.9716032340761191.\n",
            "[I 2023-07-01 13:26:44,755] Trial 31 finished with value: 0.9692125518058021 and parameters: {'n_estimators': 448, 'max_depth': 5, 'min_samples_split': 28, 'min_samples_leaf': 46}. Best is trial 19 with value: 0.9716032340761191.\n",
            "[I 2023-07-01 13:29:14,131] Trial 32 finished with value: 0.9684355888735451 and parameters: {'n_estimators': 495, 'max_depth': 5, 'min_samples_split': 37, 'min_samples_leaf': 50}. Best is trial 19 with value: 0.9716032340761191.\n",
            "[I 2023-07-01 13:31:46,611] Trial 33 finished with value: 0.9686390532544378 and parameters: {'n_estimators': 315, 'max_depth': 5, 'min_samples_split': 31, 'min_samples_leaf': 42}. Best is trial 19 with value: 0.9716032340761191.\n",
            "[I 2023-07-01 13:34:19,685] Trial 34 finished with value: 0.9685894903200317 and parameters: {'n_estimators': 362, 'max_depth': 3, 'min_samples_split': 27, 'min_samples_leaf': 47}. Best is trial 19 with value: 0.9716032340761191.\n",
            "[I 2023-07-01 13:36:50,705] Trial 35 finished with value: 0.9703849950641659 and parameters: {'n_estimators': 227, 'max_depth': 5, 'min_samples_split': 31, 'min_samples_leaf': 39}. Best is trial 19 with value: 0.9716032340761191.\n",
            "[I 2023-07-01 13:39:21,460] Trial 36 finished with value: 0.9676592388089135 and parameters: {'n_estimators': 612, 'max_depth': 7, 'min_samples_split': 22, 'min_samples_leaf': 35}. Best is trial 19 with value: 0.9716032340761191.\n",
            "[I 2023-07-01 13:41:49,937] Trial 37 finished with value: 0.9710173501577286 and parameters: {'n_estimators': 403, 'max_depth': 5, 'min_samples_split': 43, 'min_samples_leaf': 44}. Best is trial 19 with value: 0.9716032340761191.\n",
            "[I 2023-07-01 13:44:22,300] Trial 38 finished with value: 0.9702404414662988 and parameters: {'n_estimators': 985, 'max_depth': 4, 'min_samples_split': 18, 'min_samples_leaf': 41}. Best is trial 19 with value: 0.9716032340761191.\n",
            "[I 2023-07-01 13:46:52,849] Trial 39 finished with value: 0.9689723320158103 and parameters: {'n_estimators': 698, 'max_depth': 6, 'min_samples_split': 7, 'min_samples_leaf': 19}. Best is trial 19 with value: 0.9716032340761191.\n",
            "[I 2023-07-01 13:49:22,806] Trial 40 finished with value: 0.969846275128104 and parameters: {'n_estimators': 326, 'max_depth': 5, 'min_samples_split': 26, 'min_samples_leaf': 13}. Best is trial 19 with value: 0.9716032340761191.\n",
            "[I 2023-07-01 13:51:51,274] Trial 41 finished with value: 0.9672906403940887 and parameters: {'n_estimators': 393, 'max_depth': 5, 'min_samples_split': 44, 'min_samples_leaf': 46}. Best is trial 19 with value: 0.9716032340761191.\n",
            "[I 2023-07-01 13:54:22,989] Trial 42 finished with value: 0.9687808733451887 and parameters: {'n_estimators': 473, 'max_depth': 5, 'min_samples_split': 42, 'min_samples_leaf': 45}. Best is trial 19 with value: 0.9716032340761191.\n",
            "[I 2023-07-01 13:56:52,330] Trial 43 finished with value: 0.9705533596837945 and parameters: {'n_estimators': 539, 'max_depth': 5, 'min_samples_split': 37, 'min_samples_leaf': 48}. Best is trial 19 with value: 0.9716032340761191.\n",
            "[I 2023-07-01 13:59:22,297] Trial 44 finished with value: 0.9702052091554855 and parameters: {'n_estimators': 436, 'max_depth': 4, 'min_samples_split': 48, 'min_samples_leaf': 36}. Best is trial 19 with value: 0.9716032340761191.\n",
            "[I 2023-07-01 14:01:58,943] Trial 45 finished with value: 0.9681818181818181 and parameters: {'n_estimators': 284, 'max_depth': 5, 'min_samples_split': 14, 'min_samples_leaf': 30}. Best is trial 19 with value: 0.9716032340761191.\n",
            "[I 2023-07-01 14:04:36,036] Trial 46 finished with value: 0.9688424373890752 and parameters: {'n_estimators': 539, 'max_depth': 3, 'min_samples_split': 22, 'min_samples_leaf': 38}. Best is trial 19 with value: 0.9716032340761191.\n",
            "[I 2023-07-01 14:07:07,470] Trial 47 finished with value: 0.969176052163604 and parameters: {'n_estimators': 338, 'max_depth': 7, 'min_samples_split': 44, 'min_samples_leaf': 50}. Best is trial 19 with value: 0.9716032340761191.\n",
            "[I 2023-07-01 14:09:40,459] Trial 48 finished with value: 0.9694280078895464 and parameters: {'n_estimators': 149, 'max_depth': 5, 'min_samples_split': 18, 'min_samples_leaf': 43}. Best is trial 19 with value: 0.9716032340761191.\n",
            "[I 2023-07-01 14:12:19,782] Trial 49 finished with value: 0.9714116719242902 and parameters: {'n_estimators': 219, 'max_depth': 6, 'min_samples_split': 25, 'min_samples_leaf': 24}. Best is trial 19 with value: 0.9716032340761191.\n"
          ]
        }
      ]
    },
    {
      "cell_type": "code",
      "source": [
        "print(f'Best value: {study.best_trial.value}')\n",
        "print(f'Best params: {study.best_trial.params}')"
      ],
      "metadata": {
        "colab": {
          "base_uri": "https://localhost:8080/"
        },
        "id": "3ViQr9ELXOnm",
        "outputId": "a8c83633-903e-4148-9540-7600d6034603"
      },
      "execution_count": null,
      "outputs": [
        {
          "output_type": "stream",
          "name": "stdout",
          "text": [
            "Best value: 0.9716032340761191\n",
            "Best params: {'n_estimators': 217, 'max_depth': 5, 'min_samples_split': 29, 'min_samples_leaf': 32}\n"
          ]
        }
      ]
    },
    {
      "cell_type": "markdown",
      "source": [
        "Обучение модели с оптимизированными гиперпараметрами"
      ],
      "metadata": {
        "id": "nGc4Cqtg6aRT"
      }
    },
    {
      "cell_type": "code",
      "source": [
        "rfc_opt = RandomForestClassifier(n_estimators= 217, max_depth= 5, min_samples_split= 29, min_samples_leaf =32, random_state=1)"
      ],
      "metadata": {
        "id": "lAXq0On56Xui"
      },
      "execution_count": null,
      "outputs": []
    },
    {
      "cell_type": "code",
      "source": [
        "rfc_opt.fit(X_train_tfidf, y_train)"
      ],
      "metadata": {
        "colab": {
          "base_uri": "https://localhost:8080/",
          "height": 92
        },
        "id": "wvK4xrGQ69c1",
        "outputId": "bb45494c-3620-4922-f72e-8f8069541b53"
      },
      "execution_count": null,
      "outputs": [
        {
          "output_type": "execute_result",
          "data": {
            "text/plain": [
              "RandomForestClassifier(max_depth=5, min_samples_leaf=32, min_samples_split=29,\n",
              "                       n_estimators=217, random_state=1)"
            ],
            "text/html": [
              "<style>#sk-container-id-4 {color: black;background-color: white;}#sk-container-id-4 pre{padding: 0;}#sk-container-id-4 div.sk-toggleable {background-color: white;}#sk-container-id-4 label.sk-toggleable__label {cursor: pointer;display: block;width: 100%;margin-bottom: 0;padding: 0.3em;box-sizing: border-box;text-align: center;}#sk-container-id-4 label.sk-toggleable__label-arrow:before {content: \"▸\";float: left;margin-right: 0.25em;color: #696969;}#sk-container-id-4 label.sk-toggleable__label-arrow:hover:before {color: black;}#sk-container-id-4 div.sk-estimator:hover label.sk-toggleable__label-arrow:before {color: black;}#sk-container-id-4 div.sk-toggleable__content {max-height: 0;max-width: 0;overflow: hidden;text-align: left;background-color: #f0f8ff;}#sk-container-id-4 div.sk-toggleable__content pre {margin: 0.2em;color: black;border-radius: 0.25em;background-color: #f0f8ff;}#sk-container-id-4 input.sk-toggleable__control:checked~div.sk-toggleable__content {max-height: 200px;max-width: 100%;overflow: auto;}#sk-container-id-4 input.sk-toggleable__control:checked~label.sk-toggleable__label-arrow:before {content: \"▾\";}#sk-container-id-4 div.sk-estimator input.sk-toggleable__control:checked~label.sk-toggleable__label {background-color: #d4ebff;}#sk-container-id-4 div.sk-label input.sk-toggleable__control:checked~label.sk-toggleable__label {background-color: #d4ebff;}#sk-container-id-4 input.sk-hidden--visually {border: 0;clip: rect(1px 1px 1px 1px);clip: rect(1px, 1px, 1px, 1px);height: 1px;margin: -1px;overflow: hidden;padding: 0;position: absolute;width: 1px;}#sk-container-id-4 div.sk-estimator {font-family: monospace;background-color: #f0f8ff;border: 1px dotted black;border-radius: 0.25em;box-sizing: border-box;margin-bottom: 0.5em;}#sk-container-id-4 div.sk-estimator:hover {background-color: #d4ebff;}#sk-container-id-4 div.sk-parallel-item::after {content: \"\";width: 100%;border-bottom: 1px solid gray;flex-grow: 1;}#sk-container-id-4 div.sk-label:hover label.sk-toggleable__label {background-color: #d4ebff;}#sk-container-id-4 div.sk-serial::before {content: \"\";position: absolute;border-left: 1px solid gray;box-sizing: border-box;top: 0;bottom: 0;left: 50%;z-index: 0;}#sk-container-id-4 div.sk-serial {display: flex;flex-direction: column;align-items: center;background-color: white;padding-right: 0.2em;padding-left: 0.2em;position: relative;}#sk-container-id-4 div.sk-item {position: relative;z-index: 1;}#sk-container-id-4 div.sk-parallel {display: flex;align-items: stretch;justify-content: center;background-color: white;position: relative;}#sk-container-id-4 div.sk-item::before, #sk-container-id-4 div.sk-parallel-item::before {content: \"\";position: absolute;border-left: 1px solid gray;box-sizing: border-box;top: 0;bottom: 0;left: 50%;z-index: -1;}#sk-container-id-4 div.sk-parallel-item {display: flex;flex-direction: column;z-index: 1;position: relative;background-color: white;}#sk-container-id-4 div.sk-parallel-item:first-child::after {align-self: flex-end;width: 50%;}#sk-container-id-4 div.sk-parallel-item:last-child::after {align-self: flex-start;width: 50%;}#sk-container-id-4 div.sk-parallel-item:only-child::after {width: 0;}#sk-container-id-4 div.sk-dashed-wrapped {border: 1px dashed gray;margin: 0 0.4em 0.5em 0.4em;box-sizing: border-box;padding-bottom: 0.4em;background-color: white;}#sk-container-id-4 div.sk-label label {font-family: monospace;font-weight: bold;display: inline-block;line-height: 1.2em;}#sk-container-id-4 div.sk-label-container {text-align: center;}#sk-container-id-4 div.sk-container {/* jupyter's `normalize.less` sets `[hidden] { display: none; }` but bootstrap.min.css set `[hidden] { display: none !important; }` so we also need the `!important` here to be able to override the default hidden behavior on the sphinx rendered scikit-learn.org. See: https://github.com/scikit-learn/scikit-learn/issues/21755 */display: inline-block !important;position: relative;}#sk-container-id-4 div.sk-text-repr-fallback {display: none;}</style><div id=\"sk-container-id-4\" class=\"sk-top-container\"><div class=\"sk-text-repr-fallback\"><pre>RandomForestClassifier(max_depth=5, min_samples_leaf=32, min_samples_split=29,\n",
              "                       n_estimators=217, random_state=1)</pre><b>In a Jupyter environment, please rerun this cell to show the HTML representation or trust the notebook. <br />On GitHub, the HTML representation is unable to render, please try loading this page with nbviewer.org.</b></div><div class=\"sk-container\" hidden><div class=\"sk-item\"><div class=\"sk-estimator sk-toggleable\"><input class=\"sk-toggleable__control sk-hidden--visually\" id=\"sk-estimator-id-4\" type=\"checkbox\" checked><label for=\"sk-estimator-id-4\" class=\"sk-toggleable__label sk-toggleable__label-arrow\">RandomForestClassifier</label><div class=\"sk-toggleable__content\"><pre>RandomForestClassifier(max_depth=5, min_samples_leaf=32, min_samples_split=29,\n",
              "                       n_estimators=217, random_state=1)</pre></div></div></div></div></div>"
            ]
          },
          "metadata": {},
          "execution_count": 60
        }
      ]
    },
    {
      "cell_type": "code",
      "source": [
        "pred_rfc_opt = rfc_opt.predict(X_test_tfidf)"
      ],
      "metadata": {
        "id": "a9-M91Kk7Qtb"
      },
      "execution_count": null,
      "outputs": []
    },
    {
      "cell_type": "code",
      "source": [
        "rfc_report_opt = classification_report(y_test, pred_rfc_opt)"
      ],
      "metadata": {
        "id": "BuVXzrcy7X3n"
      },
      "execution_count": null,
      "outputs": []
    },
    {
      "cell_type": "code",
      "source": [
        "print(rfc_report_opt)"
      ],
      "metadata": {
        "colab": {
          "base_uri": "https://localhost:8080/"
        },
        "id": "uVGmKJ3S7nMg",
        "outputId": "e5644673-5580-43d1-c5ef-44a218e86c42"
      },
      "execution_count": null,
      "outputs": [
        {
          "output_type": "stream",
          "name": "stdout",
          "text": [
            "              precision    recall  f1-score   support\n",
            "\n",
            "           0       0.85      0.80      0.82      4945\n",
            "           1       0.81      0.86      0.84      5055\n",
            "\n",
            "    accuracy                           0.83     10000\n",
            "   macro avg       0.83      0.83      0.83     10000\n",
            "weighted avg       0.83      0.83      0.83     10000\n",
            "\n"
          ]
        }
      ]
    },
    {
      "cell_type": "code",
      "source": [
        "class_text(text_neg, rfc_opt)"
      ],
      "metadata": {
        "colab": {
          "base_uri": "https://localhost:8080/"
        },
        "id": "ZC6dLWYcx-tB",
        "outputId": "1b02d832-853f-4dfe-9f04-a8d55c226b02"
      },
      "execution_count": null,
      "outputs": [
        {
          "output_type": "stream",
          "name": "stdout",
          "text": [
            "негативный класс\n"
          ]
        }
      ]
    },
    {
      "cell_type": "code",
      "source": [
        "class_text(text_pos, rfc_opt)"
      ],
      "metadata": {
        "colab": {
          "base_uri": "https://localhost:8080/"
        },
        "id": "IH-GFwU6yqnN",
        "outputId": "82192b62-c498-4e52-a39a-6315fc6e9dad"
      },
      "execution_count": null,
      "outputs": [
        {
          "output_type": "stream",
          "name": "stdout",
          "text": [
            "позитивный класс\n"
          ]
        }
      ]
    },
    {
      "cell_type": "markdown",
      "source": [
        "Оптимизация гиперпараметров ухудшила метрики модели, следовательно параметры по умолчанию являются лучшими, но модель верно определила классы случайного недольшого текста"
      ],
      "metadata": {
        "id": "rfG-27r27u9G"
      }
    },
    {
      "cell_type": "markdown",
      "source": [
        "##Модель LSTM"
      ],
      "metadata": {
        "id": "PH7t5sUS8ICa"
      }
    },
    {
      "cell_type": "markdown",
      "source": [
        "Модель LSTM (Long Short-Term Memory) - это тип рекуррентных нейронных сетей, который особенно хорошо подходит для обработки и моделирования последовательных данных, таких как тексты, речь, временные ряды и другие.\n",
        "\n",
        "Особенности модели LSTM:\n",
        "\n",
        "1. Долгосрочная зависимость: Модель LSTM обладает способностью улавливать и запоминать долгосрочные зависимости в последовательных данных. Это достигается с помощью специальных блоков памяти, которые хранят и обновляют информацию в течение длительного времени.\n",
        "\n",
        "2. Забывание и обновление: Модель LSTM имеет механизмы для забывания и обновления информации в памяти. Это позволяет ей сохранять актуальные данные и забывать ненужные или устаревшие данные в процессе обработки последовательности.\n",
        "\n",
        "3. Гейты: LSTM использует гейты, чтобы регулировать поток информации в блоке памяти. Гейты помогают контролировать, какая информация должна быть сохранена, забыта или передана на следующий шаг.\n",
        "\n",
        "4. Скрытое состояние: LSTM имеет скрытое состояние, которое содержит информацию о предыдущих шагах обработки последовательности. Скрытое состояние передается от одного шага LSTM к следующему, позволяя модели запоминать и использовать информацию о предыдущих шагах для принятия решений.\n",
        "\n",
        "Процесс обучения модели LSTM включает в себя передачу последовательных данных через слои LSTM, вычисление ошибки и обновление весов с помощью метода обратного распространения ошибки. Обученная модель LSTM может использоваться для классификации текстов, генерации текста, предсказания временных рядов и других задач, связанных с последовательными данными.\n",
        "\n",
        "LSTM является мощным инструментом для работы с последовательными данными, и он широко применяется в различных областях, включая обработку естественного языка, распознавание речи, машинный перевод, анализ временных рядов и другие задачи, где важна работа с последовательностями."
      ],
      "metadata": {
        "id": "qbvpSrTF8JwC"
      }
    },
    {
      "cell_type": "code",
      "source": [
        "import numpy as np\n",
        "from tensorflow.keras.preprocessing.text import Tokenizer\n",
        "from tensorflow.keras.preprocessing.sequence import pad_sequences\n",
        "from tensorflow.keras.models import Sequential\n",
        "from tensorflow.keras.layers import Embedding, LSTM, Dense"
      ],
      "metadata": {
        "id": "-OqgzsMp75Vh"
      },
      "execution_count": null,
      "outputs": []
    },
    {
      "cell_type": "code",
      "source": [
        "from sklearn.metrics import accuracy_score"
      ],
      "metadata": {
        "id": "uceu-BcltSwD"
      },
      "execution_count": null,
      "outputs": []
    },
    {
      "cell_type": "code",
      "source": [
        "# Разделение данных на признаки и метки\n",
        "texts = data_for_train['text_clear']\n",
        "labels = data_for_train['label']"
      ],
      "metadata": {
        "id": "mpylXpho8xE8"
      },
      "execution_count": null,
      "outputs": []
    },
    {
      "cell_type": "code",
      "source": [
        "# Разделение данных на обучающую и тестовую выборки\n",
        "train_texts = texts[:40000]\n",
        "train_labels = labels[:40000]\n",
        "test_texts = texts[40000:]\n",
        "test_labels = labels[40000:]"
      ],
      "metadata": {
        "id": "p_1Gdl939H5q"
      },
      "execution_count": null,
      "outputs": []
    },
    {
      "cell_type": "code",
      "source": [
        "# Создание токенизатора\n",
        "vocab_size = 10000  # размер словаря\n",
        "embedding_dim = 100  # размерность вектора вложения\n",
        "max_length = 100  # максимальная длина последовательности\n",
        "trunc_type = 'post'  # обрезание последовательности\n",
        "oov_token = '<OOV>'  # токен для неизвестных слов"
      ],
      "metadata": {
        "id": "VeBV5ZAe9QNr"
      },
      "execution_count": null,
      "outputs": []
    },
    {
      "cell_type": "code",
      "source": [
        "tokenizer = Tokenizer(num_words=vocab_size, oov_token=oov_token)\n",
        "tokenizer.fit_on_texts(train_texts)\n",
        "word_index = tokenizer.word_index"
      ],
      "metadata": {
        "id": "sUjnR4wV9UTD"
      },
      "execution_count": null,
      "outputs": []
    },
    {
      "cell_type": "code",
      "source": [
        "# Преобразование текста в последовательности чисел\n",
        "train_sequences = tokenizer.texts_to_sequences(train_texts)\n",
        "train_padded = pad_sequences(train_sequences, maxlen=max_length, truncating=trunc_type)"
      ],
      "metadata": {
        "id": "egdPKMQ_9qZM"
      },
      "execution_count": null,
      "outputs": []
    },
    {
      "cell_type": "code",
      "source": [
        "# Создание модели LSTM\n",
        "model = Sequential()\n",
        "model.add(Embedding(vocab_size, embedding_dim, input_length=max_length))\n",
        "model.add(LSTM(128))\n",
        "model.add(Dense(1, activation='sigmoid'))"
      ],
      "metadata": {
        "id": "mnjCZGAI9yx3"
      },
      "execution_count": null,
      "outputs": []
    },
    {
      "cell_type": "code",
      "source": [
        "# Компиляция модели\n",
        "model.compile(optimizer='adam', loss='binary_crossentropy', metrics=['accuracy'])"
      ],
      "metadata": {
        "id": "kEwfTCYa92ei"
      },
      "execution_count": null,
      "outputs": []
    },
    {
      "cell_type": "code",
      "source": [
        "# Обучение модели\n",
        "model.fit(train_padded, train_labels, epochs=10, batch_size=32)"
      ],
      "metadata": {
        "colab": {
          "base_uri": "https://localhost:8080/"
        },
        "id": "vK0QwEv59-G8",
        "outputId": "7b48e433-717c-4f63-f1db-15f4c70ec592"
      },
      "execution_count": null,
      "outputs": [
        {
          "output_type": "stream",
          "name": "stdout",
          "text": [
            "Epoch 1/10\n",
            "1250/1250 [==============================] - 247s 196ms/step - loss: 0.3538 - accuracy: 0.8508\n",
            "Epoch 2/10\n",
            "1250/1250 [==============================] - 239s 191ms/step - loss: 0.1930 - accuracy: 0.9297\n",
            "Epoch 3/10\n",
            "1250/1250 [==============================] - 238s 190ms/step - loss: 0.1112 - accuracy: 0.9630\n",
            "Epoch 4/10\n",
            "1250/1250 [==============================] - 239s 191ms/step - loss: 0.0658 - accuracy: 0.9789\n",
            "Epoch 5/10\n",
            "1250/1250 [==============================] - 235s 188ms/step - loss: 0.0443 - accuracy: 0.9862\n",
            "Epoch 6/10\n",
            "1250/1250 [==============================] - 229s 183ms/step - loss: 0.0295 - accuracy: 0.9910\n",
            "Epoch 7/10\n",
            "1250/1250 [==============================] - 230s 184ms/step - loss: 0.0245 - accuracy: 0.9925\n",
            "Epoch 8/10\n",
            "1250/1250 [==============================] - 248s 199ms/step - loss: 0.0187 - accuracy: 0.9947\n",
            "Epoch 9/10\n",
            "1250/1250 [==============================] - 232s 186ms/step - loss: 0.0157 - accuracy: 0.9951\n",
            "Epoch 10/10\n",
            "1250/1250 [==============================] - 232s 186ms/step - loss: 0.0127 - accuracy: 0.9962\n"
          ]
        },
        {
          "output_type": "execute_result",
          "data": {
            "text/plain": [
              "<keras.callbacks.History at 0x7f2f805b2830>"
            ]
          },
          "metadata": {},
          "execution_count": 94
        }
      ]
    },
    {
      "cell_type": "code",
      "source": [
        "test_text = tokenizer.texts_to_sequences(X_test)\n",
        "new_padded_sequence = pad_sequences(test_text, maxlen=max_length)"
      ],
      "metadata": {
        "id": "nyFD-vEYJ8-b"
      },
      "execution_count": null,
      "outputs": []
    },
    {
      "cell_type": "code",
      "source": [
        "pred_lstm = model.predict(new_padded_sequence)"
      ],
      "metadata": {
        "colab": {
          "base_uri": "https://localhost:8080/"
        },
        "id": "ouUkUdoMJVZw",
        "outputId": "651f774b-7cca-42df-b919-77d6a055a2e8"
      },
      "execution_count": null,
      "outputs": [
        {
          "output_type": "stream",
          "name": "stdout",
          "text": [
            "313/313 [==============================] - 19s 59ms/step\n"
          ]
        }
      ]
    },
    {
      "cell_type": "code",
      "source": [
        "predicted_labels = [1 if pred > 0.5 else 0 for pred in pred_lstm]"
      ],
      "metadata": {
        "id": "WD9i-BDktLHi"
      },
      "execution_count": null,
      "outputs": []
    },
    {
      "cell_type": "code",
      "source": [
        "accuracy_score(predicted_labels,test_labels)"
      ],
      "metadata": {
        "colab": {
          "base_uri": "https://localhost:8080/"
        },
        "id": "9qozCKV-MstD",
        "outputId": "16c16a36-5f6b-40ca-e512-d6662f3172c3"
      },
      "execution_count": null,
      "outputs": [
        {
          "output_type": "execute_result",
          "data": {
            "text/plain": [
              "0.4757"
            ]
          },
          "metadata": {},
          "execution_count": 104
        }
      ]
    },
    {
      "cell_type": "markdown",
      "source": [
        "LSTM показала результаты гораздо хуже, возможно нужно поработать с переобучение модели, настроить оптимальное количество нейронов и слоев, но так как есть ограничения в вычислительных ресурсах и времени и есть модель показывающая достаточно хороший результат, то будем использовать ее"
      ],
      "metadata": {
        "id": "arumdTC9tg5l"
      }
    },
    {
      "cell_type": "markdown",
      "source": [
        "# Сохрание лучшей модели"
      ],
      "metadata": {
        "id": "yx7x3ygBuZE2"
      }
    },
    {
      "cell_type": "markdown",
      "source": [
        "Лучшие результаты показала модель RandomForestClassifier с гиперпараметрами по умолчанию, но она не верно определила классы случайного текста. Модель логистической регрессии показала не плохие метрики и даже выше чем у более сложной модели с оптимизированными гиперпараметрами. Еще один плюс модели логистической регрессии в том, что она более легкая, поэтому сохраним и в дальнейшем будем использовать ее."
      ],
      "metadata": {
        "id": "lkinNFM-wj5Y"
      }
    },
    {
      "cell_type": "code",
      "source": [
        "import joblib"
      ],
      "metadata": {
        "id": "iN7F4tLAufJx"
      },
      "execution_count": null,
      "outputs": []
    },
    {
      "cell_type": "code",
      "source": [
        "joblib_file = \"LR_model.pkl\"\n",
        "joblib.dump(lr, joblib_file)"
      ],
      "metadata": {
        "colab": {
          "base_uri": "https://localhost:8080/"
        },
        "id": "ckEJ24vvv3Zl",
        "outputId": "6460391d-8dd0-499b-ecfb-40e02faaadfe"
      },
      "execution_count": null,
      "outputs": [
        {
          "output_type": "execute_result",
          "data": {
            "text/plain": [
              "['LR_model.pkl']"
            ]
          },
          "metadata": {},
          "execution_count": 128
        }
      ]
    },
    {
      "cell_type": "code",
      "source": [
        "joblib_file = \"tfidf.pkl\"\n",
        "joblib.dump(tfidf, joblib_file)"
      ],
      "metadata": {
        "colab": {
          "base_uri": "https://localhost:8080/"
        },
        "id": "QyhDHlefEWh5",
        "outputId": "7d4d9286-2fd5-4353-ba5f-b41fe2efdcd9"
      },
      "execution_count": 129,
      "outputs": [
        {
          "output_type": "execute_result",
          "data": {
            "text/plain": [
              "['tfidf.pkl']"
            ]
          },
          "metadata": {},
          "execution_count": 129
        }
      ]
    }
  ]
}